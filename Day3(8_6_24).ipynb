{
  "nbformat": 4,
  "nbformat_minor": 0,
  "metadata": {
    "colab": {
      "provenance": [],
      "authorship_tag": "ABX9TyNOyT6eKMdoAtPGuyksXBt2",
      "include_colab_link": true
    },
    "kernelspec": {
      "name": "python3",
      "display_name": "Python 3"
    },
    "language_info": {
      "name": "python"
    }
  },
  "cells": [
    {
      "cell_type": "markdown",
      "metadata": {
        "id": "view-in-github",
        "colab_type": "text"
      },
      "source": [
        "<a href=\"https://colab.research.google.com/github/sharanya1234567/Sharanya-Vemula/blob/main/Day3(8_6_24).ipynb\" target=\"_parent\"><img src=\"https://colab.research.google.com/assets/colab-badge.svg\" alt=\"Open In Colab\"/></a>"
      ]
    },
    {
      "cell_type": "markdown",
      "source": [
        "### Inheritance\n"
      ],
      "metadata": {
        "id": "sua0nm2Fd1lx"
      }
    },
    {
      "cell_type": "code",
      "source": [
        "class ParentClass:\n",
        "    def prent_nethod(self):\n",
        "        print(\"This parent method\")\n",
        "\n",
        "class ChildClass(ParentClass):\n",
        "    def child_method(self):\n",
        "        print(\"This is child method\")\n",
        "\n",
        "object = ChildClass()\n",
        "object.prent_nethod()\n",
        "object.child_method()"
      ],
      "metadata": {
        "colab": {
          "base_uri": "https://localhost:8080/"
        },
        "id": "N3AtMaqFebjo",
        "outputId": "75243ce4-71cb-4481-dd0d-26ec77bd99c2"
      },
      "execution_count": 19,
      "outputs": [
        {
          "output_type": "stream",
          "name": "stdout",
          "text": [
            "This parent method\n",
            "This is child method\n"
          ]
        }
      ]
    },
    {
      "cell_type": "code",
      "source": [
        "class Animal:\n",
        "  def make_sound(self):\n",
        "    print(\"Generic animal sound\")\n",
        "\n",
        "class Dog(Animal):\n",
        "  def make_sound(self):\n",
        "    print(\"Woof!\")\n",
        "\n",
        "class Cat(Animal):\n",
        "  def make_sound(self):\n",
        "    print(\"Meow!\")\n",
        "\n",
        "class Poodle(Dog):  # Poodle inherits from Dog\n",
        "  pass\n",
        "\n",
        "animals = [Animal(), Dog(), Cat(), Poodle()]\n",
        "for animal in animals:\n",
        "  animal.make_sound()"
      ],
      "metadata": {
        "colab": {
          "base_uri": "https://localhost:8080/"
        },
        "id": "xbSixVvqebq-",
        "outputId": "4c30b4f2-ff2b-46a9-fb8a-334244b15904"
      },
      "execution_count": 2,
      "outputs": [
        {
          "output_type": "stream",
          "name": "stdout",
          "text": [
            "Generic animal sound\n",
            "Woof!\n",
            "Meow!\n",
            "Woof!\n"
          ]
        }
      ]
    },
    {
      "cell_type": "code",
      "source": [
        "# Base class\n",
        "class Parent:\n",
        "    def func1(self):\n",
        "        print(\"This function is in parent class.\")\n",
        "\n",
        "# Derived class\n",
        "\n",
        "\n",
        "class Child(Parent):\n",
        "    def func2(self):\n",
        "        print(\"This function is in child class.\")\n",
        "\n",
        "\n",
        "# Driver's code\n",
        "object = Child()\n",
        "object.func1()\n",
        "object.func2()"
      ],
      "metadata": {
        "colab": {
          "base_uri": "https://localhost:8080/"
        },
        "id": "wlJ20Xu_ebt1",
        "outputId": "b1e9540b-70e9-43c9-9868-1914ff64b552"
      },
      "execution_count": 3,
      "outputs": [
        {
          "output_type": "stream",
          "name": "stdout",
          "text": [
            "This function is in parent class.\n",
            "This function is in child class.\n"
          ]
        }
      ]
    },
    {
      "cell_type": "code",
      "source": [
        "class Mother:\n",
        "    mothername = \"\"\n",
        "\n",
        "    def mother(self):\n",
        "        print(self.mothername)\n",
        "\n",
        "# Base class2\n",
        "\n",
        "\n",
        "class Father:\n",
        "    fathername = \"\"\n",
        "\n",
        "    def father(self):\n",
        "        print(self.fathername)\n",
        "\n",
        "# Derived class\n",
        "\n",
        "\n",
        "class Son(Mother, Father):\n",
        "    def parents(self):\n",
        "        print(\"Father :\", self.fathername)\n",
        "        print(\"Mother :\", self.mothername)\n",
        "\n",
        "\n",
        "# Driver's code\n",
        "s1 = Son()\n",
        "s1.fathername = \"RAM\"\n",
        "s1.mothername = \"SITA\"\n",
        "s1.parents()"
      ],
      "metadata": {
        "colab": {
          "base_uri": "https://localhost:8080/"
        },
        "id": "jsDVnWxgebwq",
        "outputId": "4f7ce7fd-7033-4ce2-ae1c-67df40eeeb95"
      },
      "execution_count": 4,
      "outputs": [
        {
          "output_type": "stream",
          "name": "stdout",
          "text": [
            "Father : RAM\n",
            "Mother : SITA\n"
          ]
        }
      ]
    },
    {
      "cell_type": "code",
      "source": [
        "class Grandfather:\n",
        "\n",
        "\tdef __init__(self, grandfathername):\n",
        "\t\tself.grandfathername = grandfathername\n",
        "\n",
        "\n",
        "class Father(Grandfather):\n",
        "\tdef __init__(self, fathername, grandfathername):\n",
        "\t\tself.fathername = fathername\n",
        "\n",
        "\n",
        "\t\tGrandfather.__init__(self, grandfathername)\n",
        "\n",
        "\n",
        "class Son(Father):\n",
        "\tdef __init__(self, sonname, fathername, grandfathername):\n",
        "\t\tself.sonname = sonname\n",
        "\n",
        "\n",
        "\t\tFather.__init__(self, fathername, grandfathername)\n",
        "\n",
        "\tdef print_name(self):\n",
        "\t\tprint('Grandfather name :', self.grandfathername)\n",
        "\t\tprint(\"Father name :\", self.fathername)\n",
        "\t\tprint(\"Son name :\", self.sonname)\n",
        "\n",
        "\n",
        "\n",
        "s1 = Son('Prince', 'Rampal', 'Lal mani')\n",
        "print(s1.grandfathername)\n",
        "s1.print_name()"
      ],
      "metadata": {
        "colab": {
          "base_uri": "https://localhost:8080/"
        },
        "id": "u98uTCBRebzM",
        "outputId": "9ab9efcc-c2fa-4104-f496-7dfa3741832a"
      },
      "execution_count": 5,
      "outputs": [
        {
          "output_type": "stream",
          "name": "stdout",
          "text": [
            "Lal mani\n",
            "Grandfather name : Lal mani\n",
            "Father name : Rampal\n",
            "Son name : Prince\n"
          ]
        }
      ]
    },
    {
      "cell_type": "code",
      "source": [
        "# Base class\n",
        "class Parent:\n",
        "\tdef func1(self):\n",
        "\t\tprint(\"This function is in parent class.\")\n",
        "\n",
        "# Derived class1\n",
        "class Child1(Parent):\n",
        "\tdef func2(self):\n",
        "\t\tprint(\"This function is in child 1.\")\n",
        "\n",
        "# Derivied class2\n",
        "class Child2(Parent):\n",
        "\tdef func3(self):\n",
        "\t\tprint(\"This function is in child 2.\")\n",
        "\n",
        "\n",
        "# Driver's code\n",
        "object1 = Child1()\n",
        "object2 = Child2()\n",
        "object1.func1()\n",
        "object1.func2()\n",
        "object2.func1()\n",
        "object2.func3()"
      ],
      "metadata": {
        "colab": {
          "base_uri": "https://localhost:8080/"
        },
        "id": "ENlXeLm5eb4N",
        "outputId": "b825390e-f9dd-40f3-fd9a-9166f60e92c9"
      },
      "execution_count": 6,
      "outputs": [
        {
          "output_type": "stream",
          "name": "stdout",
          "text": [
            "This function is in parent class.\n",
            "This function is in child 1.\n",
            "This function is in parent class.\n",
            "This function is in child 2.\n"
          ]
        }
      ]
    },
    {
      "cell_type": "code",
      "source": [
        "class School:\n",
        "\tdef func1(self):\n",
        "\t\tprint(\"This function is in school.\")\n",
        "\n",
        "\n",
        "class Student1(School):\n",
        "\tdef func2(self):\n",
        "\t\tprint(\"This function is in student 1. \")\n",
        "\n",
        "\n",
        "class Student2(School):\n",
        "\tdef func3(self):\n",
        "\t\tprint(\"This function is in student 2.\")\n",
        "\n",
        "\n",
        "class Student3(Student1, School):\n",
        "\tdef func4(self):\n",
        "\t\tprint(\"This function is in student 3.\")"
      ],
      "metadata": {
        "id": "GlKIV-64eb6t"
      },
      "execution_count": 7,
      "outputs": []
    },
    {
      "cell_type": "code",
      "source": [
        "class Shape:\n",
        "\n",
        "  def area(self):\n",
        "    raise NotImplementedError(\"Subclasses must implement area()\")"
      ],
      "metadata": {
        "id": "WwuQjoGzeb9V"
      },
      "execution_count": 8,
      "outputs": []
    },
    {
      "cell_type": "code",
      "source": [
        "class Square(Shape):\n",
        "\n",
        "  def __init__(self, side):\n",
        "    self.side = side\n",
        "\n",
        "  def area(self):\n",
        "    #Calculates area of square\n",
        "    return self.side * self.side\n",
        "\n",
        "class Circle(Shape):\n",
        "\n",
        "  def __init__(self, radius):\n",
        "    self.radius = radius\n",
        "\n",
        "  def area(self):\n",
        "    #Calculates area of circle\n",
        "    return 3.14 * self.radius * self.radius\n",
        "\n",
        "# Create objects of Square and Circle\n",
        "square = Square(5)\n",
        "circle = Circle(3)\n",
        "\n",
        "\n",
        "# Call the overridden area method from each subclass\n",
        "print(f\"Area of square: {square.area()}\")\n",
        "print(f\"Area of circle: {circle.area()}\")"
      ],
      "metadata": {
        "colab": {
          "base_uri": "https://localhost:8080/"
        },
        "id": "p-klkqY0eb_2",
        "outputId": "57759338-f231-4007-b051-c67eb40b8244"
      },
      "execution_count": 9,
      "outputs": [
        {
          "output_type": "stream",
          "name": "stdout",
          "text": [
            "Area of square: 25\n",
            "Area of circle: 28.259999999999998\n"
          ]
        }
      ]
    },
    {
      "cell_type": "code",
      "source": [
        "class Shape:\n",
        "\n",
        "  def info(self):\n",
        "    print(f\"I am a {type(self).__name__}.\")\n",
        "\n",
        "class ColoredShape(Shape):\n",
        "\n",
        "  def __init__(self):\n",
        "    pass\n",
        "\n",
        "  def info(self):\n",
        "    super().info() # Call info from Shape\n",
        "    print(f\"I am also colored.\")\n",
        "\n",
        "class RedSquare(ColoredShape):\n",
        "\n",
        "  # No __init__ defined here\n",
        "\n",
        "  def info(self):\n",
        "    super().info()  # Call info from ColoredShape\n",
        "    print(f\"I am a red square.\")\n",
        "\n",
        "# Create objects (these won't have color set since ColoredShape lacks __init__)\n",
        "red_square = RedSquare()\n",
        "\n",
        "red_square.info()"
      ],
      "metadata": {
        "colab": {
          "base_uri": "https://localhost:8080/"
        },
        "id": "x9g0ppmwecCl",
        "outputId": "2569ae69-5dc2-48e1-cb6e-c8ecd0d9f761"
      },
      "execution_count": 10,
      "outputs": [
        {
          "output_type": "stream",
          "name": "stdout",
          "text": [
            "I am a RedSquare.\n",
            "I am also colored.\n",
            "I am a red square.\n"
          ]
        }
      ]
    },
    {
      "cell_type": "code",
      "source": [
        "class Emp():\n",
        "    def __init__(self, id, name, Add):\n",
        "        self.id = id\n",
        "        self.name = name\n",
        "        self.Add = Add\n",
        "\n",
        "# Class freelancer inherits EMP\n",
        "class Freelance(Emp):\n",
        "    def __init__(self, id, name, Add, Emails):\n",
        "        super().__init__(id, name, Add)\n",
        "        self.Emails = Emails\n",
        "\n",
        "Emp_1 = Freelance(103, \"Suraj kr gupta\", \"Noida\" , \"SKG@gmails\")\n",
        "print('The ID is:', Emp_1.id)\n",
        "print('The Name is:', Emp_1.name)\n",
        "print('The Address is:', Emp_1.Add)\n",
        "print('The Emails is:', Emp_1.Emails)\n",
        ""
      ],
      "metadata": {
        "colab": {
          "base_uri": "https://localhost:8080/"
        },
        "id": "pklsICTnecFA",
        "outputId": "20ed2f12-975d-4790-fa7d-ad65a4d85d9b"
      },
      "execution_count": 11,
      "outputs": [
        {
          "output_type": "stream",
          "name": "stdout",
          "text": [
            "The ID is: 103\n",
            "The Name is: Suraj kr gupta\n",
            "The Address is: Noida\n",
            "The Emails is: SKG@gmails\n"
          ]
        }
      ]
    },
    {
      "cell_type": "code",
      "source": [
        "class Animal:\n",
        "    def __init__(self, species):\n",
        "        self.species = species\n",
        "\n",
        "    def __str__(self):\n",
        "        return f\"I am a {self.species}\"\n",
        "\n",
        "# Child class inherits Parent class(Animal)\n",
        "class Dog(Animal):\n",
        "    def __init__(self, breed):\n",
        "        super().__init__(\"dog\")\n",
        "        self.breed = breed\n",
        "\n",
        "    def __str__(self):\n",
        "        return super().__str__() + f\" of breed {self.breed}\"\n",
        "\n",
        "# Creating an instance of Dog\n",
        "my_dog = Dog(\"Labrador\")\n",
        "\n",
        "# Printing the Dog instance\n",
        "print(my_dog)\n",
        ""
      ],
      "metadata": {
        "colab": {
          "base_uri": "https://localhost:8080/"
        },
        "id": "HFJUFlz0ecHp",
        "outputId": "f12f890c-d0dc-43dc-8215-12be1ffed975"
      },
      "execution_count": 12,
      "outputs": [
        {
          "output_type": "stream",
          "name": "stdout",
          "text": [
            "I am a dog of breed Labrador\n"
          ]
        }
      ]
    },
    {
      "cell_type": "code",
      "source": [
        "class Person:\n",
        "  def __init__(self, fname, lname):\n",
        "    self.firstname = fname\n",
        "    self.lastname = lname\n",
        "\n",
        "  def printname(self):\n",
        "    print(self.firstname, self.lastname)\n",
        "x = Person(\"John\", \"Doe\")\n",
        "x.printname()\n",
        ""
      ],
      "metadata": {
        "colab": {
          "base_uri": "https://localhost:8080/"
        },
        "id": "fHA5Ib7FecK4",
        "outputId": "92b2c5b3-e9e9-4ccb-ed4a-6b6a20506cc9"
      },
      "execution_count": 13,
      "outputs": [
        {
          "output_type": "stream",
          "name": "stdout",
          "text": [
            "John Doe\n"
          ]
        }
      ]
    },
    {
      "cell_type": "code",
      "source": [
        "class Student(Person):\n",
        "  def __init__(self, fname, lname, year):\n",
        "    super().__init__(fname, lname)\n",
        "    self.graduationyear = year\n",
        "\n",
        "x = Student(\"Mike\", \"Olsen\", 2019)"
      ],
      "metadata": {
        "id": "bEX3v9uAfKZs"
      },
      "execution_count": 14,
      "outputs": []
    },
    {
      "cell_type": "code",
      "source": [
        "class Student(Person):\n",
        "  def __init__(self, fname, lname, year):\n",
        "    super().__init__(fname, lname)\n",
        "    self.graduationyear = year\n",
        "\n",
        "  def welcome(self):\n",
        "    print(\"Welcome\", self.firstname, self.lastname, \"to the class of\", self.graduationyear)\n",
        ""
      ],
      "metadata": {
        "id": "fDC_BhfbfKcO"
      },
      "execution_count": 15,
      "outputs": []
    },
    {
      "cell_type": "code",
      "source": [
        "class SuperClass:\n",
        "\n",
        "    def super_method(self):\n",
        "        print(\"Super Class method called\")\n",
        "\n",
        "\n",
        "class DerivedClass1(SuperClass):\n",
        "    def derived1_method(self):\n",
        "        print(\"Derived class 1 method called\")\n",
        "class DerivedClass2(DerivedClass1):\n",
        "\n",
        "    def derived2_method(self):\n",
        "        print(\"Derived class 2 method called\")\n",
        "\n",
        "\n",
        "d2 = DerivedClass2()\n",
        "\n",
        "d2.super_method()\n",
        "\n",
        "d2.derived1_method()\n",
        "d2.derived2_method()"
      ],
      "metadata": {
        "colab": {
          "base_uri": "https://localhost:8080/"
        },
        "id": "7zxBHuvmfKfw",
        "outputId": "a46876fd-d4ae-47bf-f5fe-faddf7d5a5ad"
      },
      "execution_count": 16,
      "outputs": [
        {
          "output_type": "stream",
          "name": "stdout",
          "text": [
            "Super Class method called\n",
            "Derived class 1 method called\n",
            "Derived class 2 method called\n"
          ]
        }
      ]
    },
    {
      "cell_type": "code",
      "source": [
        "class SuperClass1:\n",
        "    def info(self):\n",
        "        print(\"Super Class 1 method called\")\n",
        "\n",
        "class SuperClass2:\n",
        "    def info(self):\n",
        "        print(\"Super Class 2 method called\")\n",
        "\n",
        "class Derived(SuperClass1, SuperClass2):\n",
        "    pass\n",
        "\n",
        "d1 = Derived()\n",
        "d1.info()\n"
      ],
      "metadata": {
        "colab": {
          "base_uri": "https://localhost:8080/"
        },
        "id": "UUEK-Qj2ecOb",
        "outputId": "19b8c00c-e22e-49c6-8fdc-5bf06d2a7777"
      },
      "execution_count": 17,
      "outputs": [
        {
          "output_type": "stream",
          "name": "stdout",
          "text": [
            "Super Class 1 method called\n"
          ]
        }
      ]
    },
    {
      "cell_type": "code",
      "source": [
        "class School:\n",
        "    def func1(self):\n",
        "        print(\"This function is in school.\")\n",
        "\n",
        "\n",
        "class Student1(School):\n",
        "    def func2(self):\n",
        "        print(\"This function is in student 1. \")\n",
        "\n",
        "\n",
        "class Student2(School):\n",
        "    def func3(self):\n",
        "        print(\"This function is in student 2.\")\n",
        "\n",
        "\n",
        "class Student3(Student1, School):\n",
        "    def func4(self):\n",
        "        print(\"This function is in student 3.\")\n",
        "\n",
        "\n",
        "object = Student3()\n",
        "object.func1()\n",
        "object.func2()"
      ],
      "metadata": {
        "colab": {
          "base_uri": "https://localhost:8080/"
        },
        "id": "iyU85pK9fW_3",
        "outputId": "202d8e04-3bdd-4853-ce20-9fc6b6b2a4bb"
      },
      "execution_count": 18,
      "outputs": [
        {
          "output_type": "stream",
          "name": "stdout",
          "text": [
            "This function is in school.\n",
            "This function is in student 1. \n"
          ]
        }
      ]
    }
  ]
}