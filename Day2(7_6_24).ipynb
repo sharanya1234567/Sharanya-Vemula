{
  "nbformat": 4,
  "nbformat_minor": 0,
  "metadata": {
    "colab": {
      "provenance": [],
      "authorship_tag": "ABX9TyNCIaLvSiHxYfB8P6o2IbPb",
      "include_colab_link": true
    },
    "kernelspec": {
      "name": "python3",
      "display_name": "Python 3"
    },
    "language_info": {
      "name": "python"
    }
  },
  "cells": [
    {
      "cell_type": "markdown",
      "metadata": {
        "id": "view-in-github",
        "colab_type": "text"
      },
      "source": [
        "<a href=\"https://colab.research.google.com/github/sharanya1234567/Sharanya-Vemula/blob/main/Day2(7_6_24).ipynb\" target=\"_parent\"><img src=\"https://colab.research.google.com/assets/colab-badge.svg\" alt=\"Open In Colab\"/></a>"
      ]
    },
    {
      "cell_type": "markdown",
      "source": [
        "### OOPS Concept\n"
      ],
      "metadata": {
        "id": "BOpjCq9NXz_k"
      }
    },
    {
      "cell_type": "code",
      "source": [
        "class MyClass:\n",
        "    pass\n",
        "\n",
        "obj = MyClass()"
      ],
      "metadata": {
        "id": "Xn94K2HhX0sZ"
      },
      "execution_count": 1,
      "outputs": []
    },
    {
      "cell_type": "code",
      "source": [
        "class MyClass:\n",
        "\n",
        "    def increment(self):\n",
        "        if not hasattr(self, 'instance_var'):\n",
        "            self.instance_var = 0\n",
        "        self.instance_var += 1\n",
        "        return self.instance_var\n",
        "\n",
        "obj = MyClass()\n",
        "\n",
        "print(obj.increment())\n",
        "print(obj.increment())"
      ],
      "metadata": {
        "colab": {
          "base_uri": "https://localhost:8080/"
        },
        "id": "LvxohZC-X0xx",
        "outputId": "63c349ac-e0a1-48e6-cc82-7c18c7cb853a"
      },
      "execution_count": 2,
      "outputs": [
        {
          "output_type": "stream",
          "name": "stdout",
          "text": [
            "1\n",
            "2\n"
          ]
        }
      ]
    },
    {
      "cell_type": "code",
      "source": [
        "class MyClass:\n",
        "    class_var = 0\n",
        "\n",
        "    def increment(self):\n",
        "        MyClass.class_var += 1\n",
        "\n",
        "obj1 = MyClass()\n",
        "obj2 = MyClass()\n",
        "print(MyClass.class_var)\n",
        "obj1.increment()\n",
        "print(MyClass.class_var)\n",
        "obj2.increment()\n",
        "print(MyClass.class_var)"
      ],
      "metadata": {
        "colab": {
          "base_uri": "https://localhost:8080/"
        },
        "id": "rY4Xui7lX00Y",
        "outputId": "83a022b4-04ac-49c8-e916-603f48937d4a"
      },
      "execution_count": 3,
      "outputs": [
        {
          "output_type": "stream",
          "name": "stdout",
          "text": [
            "0\n",
            "1\n",
            "2\n"
          ]
        }
      ]
    },
    {
      "cell_type": "code",
      "source": [
        "class MyClass:\n",
        "    def my_method(self):\n",
        "        print(\"This is a normal method.\")\n",
        "\n",
        "obj = MyClass()\n",
        "obj.my_method()\n",
        ""
      ],
      "metadata": {
        "colab": {
          "base_uri": "https://localhost:8080/"
        },
        "id": "V2h5d4VlX02_",
        "outputId": "dfe93b0b-5222-4920-8715-10c58000c401"
      },
      "execution_count": 5,
      "outputs": [
        {
          "output_type": "stream",
          "name": "stdout",
          "text": [
            "This is a normal method.\n"
          ]
        }
      ]
    },
    {
      "cell_type": "code",
      "source": [
        "class Person:\n",
        "    def __init__(self, name, age):\n",
        "        self.name = name\n",
        "        self.age = age\n",
        "\n",
        "\n",
        "person1 = Person(\"Alice\", 25)\n",
        "print(person1.name)\n",
        "print(person1.age)"
      ],
      "metadata": {
        "colab": {
          "base_uri": "https://localhost:8080/"
        },
        "id": "Tbjkg3oZX07K",
        "outputId": "0281202d-c2c2-4999-87b0-970cd766b6f8"
      },
      "execution_count": 6,
      "outputs": [
        {
          "output_type": "stream",
          "name": "stdout",
          "text": [
            "Alice\n",
            "25\n"
          ]
        }
      ]
    },
    {
      "cell_type": "code",
      "source": [
        "class Person:\n",
        "    def __init__(self, name, age):\n",
        "        self.name = name\n",
        "        self.age = age\n",
        "\n",
        "    def __str__(self):\n",
        "        return f\"{self.name} ({self.age})\"\n",
        "\n",
        "\n",
        "person1 = Person(\"Alice\", 25)\n",
        "print(person1)\n",
        "print(str(person1))"
      ],
      "metadata": {
        "colab": {
          "base_uri": "https://localhost:8080/"
        },
        "id": "0I4ugs46X0-G",
        "outputId": "9b3ecaed-d98a-4f97-9cf9-81dc70eb071f"
      },
      "execution_count": 7,
      "outputs": [
        {
          "output_type": "stream",
          "name": "stdout",
          "text": [
            "Alice (25)\n",
            "Alice (25)\n"
          ]
        }
      ]
    },
    {
      "cell_type": "code",
      "source": [
        "class Person:\n",
        "    def __new__(cls, *args, **kwargs):\n",
        "        print(\"Creating a new instance of Person\")\n",
        "        return super(Person, cls).__new__(cls)\n",
        "\n",
        "    def __init__(self, name, age):\n",
        "        self.name = name\n",
        "        self.age = age\n",
        "\n",
        "    def __str__(self):\n",
        "        return f\"{self.name} ({self.age})\"\n",
        "\n",
        "\n",
        "person1 = Person(\"Alice\", 25)\n",
        "print(person1)"
      ],
      "metadata": {
        "colab": {
          "base_uri": "https://localhost:8080/"
        },
        "id": "7jKsy-BHX1A7",
        "outputId": "d939a8ea-6e03-4d44-d69c-7c29f8448aa7"
      },
      "execution_count": 8,
      "outputs": [
        {
          "output_type": "stream",
          "name": "stdout",
          "text": [
            "Creating a new instance of Person\n",
            "Alice (25)\n"
          ]
        }
      ]
    },
    {
      "cell_type": "code",
      "source": [
        "class MyClass:\n",
        "    def __init__(self):\n",
        "        print(\"Constructor called\")\n",
        "\n",
        "    def __del__(self):\n",
        "        print(\"Deconstructor called\")\n",
        "\n",
        "obj = MyClass()\n",
        "\n",
        "\n",
        "class MyClass:\n",
        "    def __init__(self):\n",
        "        self.data = 0\n",
        "\n",
        "obj = MyClass()\n",
        "print(obj.data)"
      ],
      "metadata": {
        "colab": {
          "base_uri": "https://localhost:8080/"
        },
        "id": "wopKkxo6X1DW",
        "outputId": "3ba305d7-3ab9-4cc9-8af0-e8ca919a0fad"
      },
      "execution_count": 11,
      "outputs": [
        {
          "output_type": "stream",
          "name": "stdout",
          "text": [
            "Constructor called\n",
            "Deconstructor called\n",
            "0\n"
          ]
        }
      ]
    },
    {
      "cell_type": "code",
      "source": [
        "class MyClass:\n",
        "    def __init__(self, value):\n",
        "        self.data = value\n",
        "\n",
        "obj = MyClass(10)\n",
        "print(obj.data)\n",
        ""
      ],
      "metadata": {
        "colab": {
          "base_uri": "https://localhost:8080/"
        },
        "id": "Y-QDqGXXX1Fw",
        "outputId": "bc7cdd36-8df9-44d1-d6e5-85390f941c36"
      },
      "execution_count": 10,
      "outputs": [
        {
          "output_type": "stream",
          "name": "stdout",
          "text": [
            "10\n"
          ]
        }
      ]
    },
    {
      "cell_type": "code",
      "source": [
        "class MyClass:\n",
        "    def __init__(self, value=0):\n",
        "        self.data = value\n",
        "\n",
        "obj1 = MyClass()\n",
        "print(obj1.data)\n",
        "obj2 = MyClass(20)\n",
        "print(obj2.data)"
      ],
      "metadata": {
        "colab": {
          "base_uri": "https://localhost:8080/"
        },
        "id": "qIth00uOX1IR",
        "outputId": "59c07871-d20c-41ed-dd65-88c315385ae1"
      },
      "execution_count": 12,
      "outputs": [
        {
          "output_type": "stream",
          "name": "stdout",
          "text": [
            "0\n",
            "20\n"
          ]
        }
      ]
    },
    {
      "cell_type": "code",
      "source": [
        "class MyClass:\n",
        "    def __init__(self, value):\n",
        "        self.data = value\n",
        "\n",
        "    def update(self, other):\n",
        "        self.data += other.data\n",
        "obj1 = MyClass(10)\n",
        "obj2 = MyClass(20)\n",
        "\n",
        "obj1.update(obj2)\n",
        "print(obj1.data)"
      ],
      "metadata": {
        "colab": {
          "base_uri": "https://localhost:8080/"
        },
        "id": "KEfuXuy_X1X-",
        "outputId": "9665cf23-037d-460f-a4e1-cf188bf1261e"
      },
      "execution_count": 13,
      "outputs": [
        {
          "output_type": "stream",
          "name": "stdout",
          "text": [
            "30\n"
          ]
        }
      ]
    },
    {
      "cell_type": "code",
      "source": [
        "class MyClass:\n",
        "    def my_method(self, arg1, arg2=0):\n",
        "        print(f\"arg1: {arg1}, arg2: {arg2}\")\n",
        "\n",
        "obj = MyClass()\n",
        "obj.my_method(10)\n",
        "obj.my_method(10, 20)"
      ],
      "metadata": {
        "colab": {
          "base_uri": "https://localhost:8080/"
        },
        "id": "3hRRwM-EX1dQ",
        "outputId": "e183d477-c2e2-4600-eb73-dd2476f7b26c"
      },
      "execution_count": 14,
      "outputs": [
        {
          "output_type": "stream",
          "name": "stdout",
          "text": [
            "arg1: 10, arg2: 0\n",
            "arg1: 10, arg2: 20\n"
          ]
        }
      ]
    },
    {
      "cell_type": "code",
      "source": [
        "class MyClass:\n",
        "    def __init__(self):\n",
        "        self.__private_var = 0\n",
        "\n",
        "    def get_private_var(self):\n",
        "        return self.__private_var\n",
        "\n",
        "    def set_private_var(self, value):\n",
        "        self.__private_var = value\n",
        "\n",
        "obj = MyClass()\n",
        "\n",
        "print(obj.get_private_var())\n",
        "\n",
        "obj.set_private_var(10)\n",
        "print(obj.get_private_var())"
      ],
      "metadata": {
        "colab": {
          "base_uri": "https://localhost:8080/"
        },
        "id": "SbWwMII8X1f4",
        "outputId": "1ec3350e-0053-48a8-ce23-eb1157af0c6b"
      },
      "execution_count": 15,
      "outputs": [
        {
          "output_type": "stream",
          "name": "stdout",
          "text": [
            "0\n",
            "10\n"
          ]
        }
      ]
    },
    {
      "cell_type": "code",
      "source": [
        "class Employee:\n",
        "    def __init__(self, name, age, salary):\n",
        "\n",
        "        self.name = name\n",
        "        self.age = age\n",
        "\n",
        "\n",
        "        self.__salary = salary\n",
        "\n",
        "    def get_salary(self):\n",
        "\n",
        "        return self.__salary\n",
        "\n",
        "    def set_salary(self, new_salary):\n",
        "\n",
        "        if new_salary > 0:\n",
        "            self.__salary = new_salary\n",
        "        else:\n",
        "            print(\"Invalid salary\")\n",
        "\n",
        "\n",
        "employee = Employee(\"John\", 30, 5000)\n",
        "\n",
        "\n",
        "print(employee.get_salary())\n",
        "\n",
        "\n",
        "employee.set_salary(6000)\n",
        "\n",
        "\n",
        "print(employee.get_salary())"
      ],
      "metadata": {
        "colab": {
          "base_uri": "https://localhost:8080/"
        },
        "id": "4LEjuv_FX1iZ",
        "outputId": "0dbe796a-c7a9-4e35-cd12-1054fc174d45"
      },
      "execution_count": 16,
      "outputs": [
        {
          "output_type": "stream",
          "name": "stdout",
          "text": [
            "5000\n",
            "6000\n"
          ]
        }
      ]
    },
    {
      "cell_type": "code",
      "source": [
        "class MyClass:\n",
        "    def __init__(self):\n",
        "\n",
        "        self.__hidden_var = 0\n",
        "\n",
        "    def get_hidden_var(self):\n",
        "\n",
        "        return self.__hidden_var\n",
        "    def set_hidden_var(self, value):\n",
        "\n",
        "        self.__hidden_var = value\n",
        "\n",
        "\n",
        "obj = MyClass()\n",
        "\n",
        "obj.set_hidden_var(10)\n",
        "\n",
        "print(obj.get_hidden_var())"
      ],
      "metadata": {
        "colab": {
          "base_uri": "https://localhost:8080/"
        },
        "id": "8dcHE7-vX1k6",
        "outputId": "10ed2f07-18a0-4558-db45-1f0eb3f2969b"
      },
      "execution_count": 17,
      "outputs": [
        {
          "output_type": "stream",
          "name": "stdout",
          "text": [
            "10\n"
          ]
        }
      ]
    },
    {
      "cell_type": "code",
      "source": [
        "\n",
        "class Person(object):\n",
        "\n",
        "\n",
        "    def __init__(self, name, idnumber):\n",
        "        self.name = name\n",
        "        self.idnumber = idnumber\n",
        "\n",
        "    def display(self):\n",
        "        print(self.name)\n",
        "        print(self.idnumber)\n",
        "\n",
        "    def details(self):\n",
        "        print(\"My name is {}\".format(self.name))\n",
        "        print(\"IdNumber: {}\".format(self.idnumber))\n",
        "\n",
        "\n",
        "class Employee(Person):\n",
        "    def __init__(self, name, idnumber, salary, post):\n",
        "        self.salary = salary\n",
        "        self.post = post\n",
        "\n",
        "\n",
        "        Person.__init__(self, name, idnumber)\n",
        "\n",
        "    def details(self):\n",
        "        print(\"My name is {}\".format(self.name))\n",
        "        print(\"IdNumber: {}\".format(self.idnumber))\n",
        "        print(\"Post: {}\".format(self.post))\n",
        "\n",
        "\n",
        "\n",
        "a = Employee('Sharanya', 886012, 200000, \"Intern\")\n",
        "\n",
        "\n",
        "a.display()\n",
        "a.details()"
      ],
      "metadata": {
        "colab": {
          "base_uri": "https://localhost:8080/"
        },
        "id": "rHmFblVVX1nk",
        "outputId": "3bcec7c1-d729-4f48-80b0-e77d04261c96"
      },
      "execution_count": 18,
      "outputs": [
        {
          "output_type": "stream",
          "name": "stdout",
          "text": [
            "Sharanya\n",
            "886012\n",
            "My name is Sharanya\n",
            "IdNumber: 886012\n",
            "Post: Intern\n"
          ]
        }
      ]
    },
    {
      "cell_type": "code",
      "source": [
        "class Bird:\n",
        "\n",
        "    def intro(self):\n",
        "        print(\"There are many types of birds.\")\n",
        "\n",
        "    def flight(self):\n",
        "        print(\"Most of the birds can fly but some cannot.\")\n",
        "\n",
        "class sparrow(Bird):\n",
        "\n",
        "    def flight(self):\n",
        "        print(\"Sparrows can fly.\")\n",
        "\n",
        "class ostrich(Bird):\n",
        "\n",
        "    def flight(self):\n",
        "        print(\"Ostriches cannot fly.\")\n",
        "\n",
        "obj_bird = Bird()\n",
        "obj_spr = sparrow()\n",
        "obj_ost = ostrich()\n",
        "\n",
        "obj_bird.intro()\n",
        "obj_bird.flight()\n",
        "\n",
        "obj_spr.intro()\n",
        "obj_spr.flight()\n",
        "\n",
        "obj_ost.intro()\n",
        "obj_ost.flight()"
      ],
      "metadata": {
        "colab": {
          "base_uri": "https://localhost:8080/"
        },
        "id": "DFyllYJfX1qL",
        "outputId": "7f468f14-d8fc-4cf8-9c43-e8f4ec0d504b"
      },
      "execution_count": 19,
      "outputs": [
        {
          "output_type": "stream",
          "name": "stdout",
          "text": [
            "There are many types of birds.\n",
            "Most of the birds can fly but some cannot.\n",
            "There are many types of birds.\n",
            "Sparrows can fly.\n",
            "There are many types of birds.\n",
            "Ostriches cannot fly.\n"
          ]
        }
      ]
    },
    {
      "cell_type": "code",
      "source": [
        "class car:\n",
        "    def __init__(self,modelname, year):\n",
        "        self.modelname = modelname\n",
        "        self.year = year\n",
        "    def display(self):\n",
        "        print(self.modelname,self.year)\n",
        "\n",
        "c1 = car(\"Mahendra\", 2016)\n",
        "c1.display()"
      ],
      "metadata": {
        "colab": {
          "base_uri": "https://localhost:8080/"
        },
        "id": "AuStcyENX1s1",
        "outputId": "3642750f-9ad4-45a1-9bcc-99eda470820e"
      },
      "execution_count": 20,
      "outputs": [
        {
          "output_type": "stream",
          "name": "stdout",
          "text": [
            "Mahendra 2016\n"
          ]
        }
      ]
    },
    {
      "cell_type": "code",
      "source": [
        "class Human:\n",
        "\n",
        "    species = \"Homo Sapiens\"\n",
        "    def __init__(self, name, age, gender):\n",
        "        self.name = name\n",
        "        self.age = age\n",
        "        self.gender = gender\n",
        "\n",
        "x = Human(\"Ron\", 15, \"Male\")\n",
        "y = Human(\"Miley\", 22, \"Female\")\n",
        "print(x.name)\n",
        "print(y.name)"
      ],
      "metadata": {
        "colab": {
          "base_uri": "https://localhost:8080/"
        },
        "id": "M7ASj9jWX1vU",
        "outputId": "93c3bd18-1568-491c-b4b6-2d69089f80ce"
      },
      "execution_count": 21,
      "outputs": [
        {
          "output_type": "stream",
          "name": "stdout",
          "text": [
            "Ron\n",
            "Miley\n"
          ]
        }
      ]
    },
    {
      "cell_type": "code",
      "source": [
        "class Human:\n",
        "\n",
        "    species = \"Homo Sapiens\"\n",
        "    def __init__(self, name, age, gender):\n",
        "        self.name = name\n",
        "        self.age = age\n",
        "        self.gender = gender\n",
        "\n",
        "Human.species = \"Sapiens\"\n",
        "obj = Human(\"Brek\",11,\"male\")\n",
        "print(obj.species)\n",
        ""
      ],
      "metadata": {
        "colab": {
          "base_uri": "https://localhost:8080/"
        },
        "id": "ICGNJAtTX1xu",
        "outputId": "c03b49e1-a97e-4206-d8cf-4268a0d625ee"
      },
      "execution_count": 22,
      "outputs": [
        {
          "output_type": "stream",
          "name": "stdout",
          "text": [
            "Sapiens\n"
          ]
        }
      ]
    },
    {
      "cell_type": "code",
      "source": [
        "class Human:\n",
        "\n",
        "    species = \"Homo Sapiens\"\n",
        "    def __init__(self, name, age, gender):\n",
        "        self.name = name\n",
        "        self.age = age\n",
        "        self.gender = gender\n",
        "\n",
        "\n",
        "    def speak(self):\n",
        "        return f\"Hello everyone! I am {self.name}\"\n",
        "\n",
        "\n",
        "    def eat(self, favouriteDish):\n",
        "        return f\"I love to eat {favouriteDish}!!!\"\n",
        "\n",
        "x = Human(\"Ciri\",18,\"female\")\n",
        "print(x.speak())\n",
        "print(x.eat(\"momos\"))"
      ],
      "metadata": {
        "colab": {
          "base_uri": "https://localhost:8080/"
        },
        "id": "GpWc3v2gX10X",
        "outputId": "31b687c8-fbbf-4888-9ecc-838cfaf5e7a8"
      },
      "execution_count": 23,
      "outputs": [
        {
          "output_type": "stream",
          "name": "stdout",
          "text": [
            "Hello everyone! I am Ciri\n",
            "I love to eat momos!!!\n"
          ]
        }
      ]
    },
    {
      "cell_type": "code",
      "source": [
        "class Human:     #parent class\n",
        "    def __init__(self, name, age, gender):\n",
        "        self.name = name\n",
        "        self.age = age\n",
        "        self.gender = gender\n",
        "\n",
        "    def description(self):\n",
        "        print(f\"Hey! My name is {self.name}, I'm a {self.gender} and I'm {self.age} years old\")\n",
        "\n",
        "class Boy(Human):    #child class\n",
        "    def schoolName(self, schoolname):\n",
        "        print(f\"I study in {schoolname}\")\n",
        "\n",
        "\n",
        "b = Boy('John', 15, 'male')\n",
        "b.description()\n",
        "b.schoolName(\"Sunshine Model School\")"
      ],
      "metadata": {
        "colab": {
          "base_uri": "https://localhost:8080/"
        },
        "id": "yF06vRb6X121",
        "outputId": "1aa65873-7fc1-42f8-b48a-0f78e552d48f"
      },
      "execution_count": 24,
      "outputs": [
        {
          "output_type": "stream",
          "name": "stdout",
          "text": [
            "Hey! My name is John, I'm a male and I'm 15 years old\n",
            "I study in Sunshine Model School\n"
          ]
        }
      ]
    },
    {
      "cell_type": "code",
      "source": [
        "class Human:\n",
        "    def __init__(self,name,age,gender):\n",
        "        self.name = name\n",
        "        self.age = age\n",
        "        self.gender = gender\n",
        "    def description(self):\n",
        "        print(f\"Hey! My name is {self.name}, I'm a {self.gender} and I'm {self.age} years old\")\n",
        "\n",
        "    def dance(self):\n",
        "        print(\"I can dance\")\n",
        "\n",
        "class Girl(Human):\n",
        "    def dance(self):\n",
        "        print(\"I can do classic dance\")\n",
        "    def activity(self):\n",
        "        super().dance()\n",
        "g = Girl('Lily', 20, 'girl')\n",
        "g.description()\n",
        "g.activity()\n"
      ],
      "metadata": {
        "colab": {
          "base_uri": "https://localhost:8080/"
        },
        "id": "u0pD9VCpX15m",
        "outputId": "688ba526-0770-4053-e671-813c1f15d54e"
      },
      "execution_count": 25,
      "outputs": [
        {
          "output_type": "stream",
          "name": "stdout",
          "text": [
            "Hey! My name is Lily, I'm a girl and I'm 20 years old\n",
            "I can dance\n"
          ]
        }
      ]
    },
    {
      "cell_type": "code",
      "source": [
        "print(len('deepa'))\n",
        "print(len([1,2,5,9]))\n",
        "print(len({'1':'apple','2':'cherry','3':'banana'}))"
      ],
      "metadata": {
        "colab": {
          "base_uri": "https://localhost:8080/"
        },
        "id": "ss_angCkX18P",
        "outputId": "e5082403-9166-49c4-e7a6-4ae244cccc8c"
      },
      "execution_count": 26,
      "outputs": [
        {
          "output_type": "stream",
          "name": "stdout",
          "text": [
            "5\n",
            "4\n",
            "3\n"
          ]
        }
      ]
    },
    {
      "cell_type": "code",
      "source": [
        "class Monkey:\n",
        "    def color(self):\n",
        "        print(\"The monkey is yellow coloured!\")\n",
        "\n",
        "    def eats(self):\n",
        "        print(\"The monkey eats bananas!\")\n",
        "\n",
        "\n",
        "class Rabbit:\n",
        "    def color(self):\n",
        "        print(\"The rabbit is white coloured!\")\n",
        "\n",
        "    def eats(self):\n",
        "        print(\"The rabbit eats carrots!\")\n",
        "\n",
        "\n",
        "mon = Monkey()\n",
        "rab = Rabbit()\n",
        "for animal in (mon, rab):\n",
        "    animal.color()\n",
        "    animal.eats()"
      ],
      "metadata": {
        "colab": {
          "base_uri": "https://localhost:8080/"
        },
        "id": "c42GXglqX1-9",
        "outputId": "c918c5f8-3b5c-43d8-d147-7000bb878ae9"
      },
      "execution_count": 27,
      "outputs": [
        {
          "output_type": "stream",
          "name": "stdout",
          "text": [
            "The monkey is yellow coloured!\n",
            "The monkey eats bananas!\n",
            "The rabbit is white coloured!\n",
            "The rabbit eats carrots!\n"
          ]
        }
      ]
    }
  ]
}