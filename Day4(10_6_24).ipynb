{
  "nbformat": 4,
  "nbformat_minor": 0,
  "metadata": {
    "colab": {
      "provenance": [],
      "authorship_tag": "ABX9TyP4yypoOVWAsBkJbrT69j62",
      "include_colab_link": true
    },
    "kernelspec": {
      "name": "python3",
      "display_name": "Python 3"
    },
    "language_info": {
      "name": "python"
    }
  },
  "cells": [
    {
      "cell_type": "markdown",
      "metadata": {
        "id": "view-in-github",
        "colab_type": "text"
      },
      "source": [
        "<a href=\"https://colab.research.google.com/github/sharanya1234567/Sharanya-Vemula/blob/main/Day4(10_6_24).ipynb\" target=\"_parent\"><img src=\"https://colab.research.google.com/assets/colab-badge.svg\" alt=\"Open In Colab\"/></a>"
      ]
    },
    {
      "cell_type": "markdown",
      "source": [
        "### LIST\n"
      ],
      "metadata": {
        "id": "h6AwtA1EjM8k"
      }
    },
    {
      "cell_type": "code",
      "source": [
        "fruits = [\"apple\", \"banana\", \"cherry\"]\n",
        "\n",
        "fruits.append(\"orange\")\n",
        "print(f\"Append: {fruits}\")\n",
        "\n",
        "\n",
        "fruits.insert(1, \"grape\")\n",
        "print(f\"Insert: {fruits}\")\n",
        "\n",
        "\n",
        "fruits.remove(\"banana\")\n",
        "print(f\"Remove: {fruits}\")\n",
        "\n",
        "\n",
        "fruits_shallow_copy = fruits.copy()\n",
        "fruits_shallow_copy[0] = \"lemon\"\n",
        "print(f\"Shallow Copy: {fruits_shallow_copy}, Original: {fruits}\")\n",
        "\n",
        "\n",
        "import copy\n",
        "fruits_deep_copy = copy.deepcopy(fruits)\n",
        "fruits_deep_copy[0] = \"kiwi\"\n",
        "print(f\"Deep Copy: {fruits_deep_copy}, Original: {fruits}\")\n",
        "\n",
        "\n",
        "fruits.append(\"apple\")\n",
        "apple_count = fruits.count(\"apple\")\n",
        "print(f\"Count of 'apple': {apple_count}\")\n",
        "\n",
        "more_fruits = [\"pear\", \"pineapple\"]\n",
        "fruits.extend(more_fruits)\n",
        "print(f\"Extend: {fruits}\")\n",
        "\n",
        "apple_index = fruits.index(\"apple\")\n",
        "print(f\"Index of 'apple': {apple_index}\")\n",
        "\n",
        "\n",
        "fruits.sort()\n",
        "print(f\"Sort: {fruits}\")\n",
        "\n",
        "\n",
        "fruits.reverse()\n",
        "print(f\"Reverse: {fruits}\")\n",
        "\n",
        "\n",
        "fruits.clear()\n",
        "print(f\"Clear: {fruits}\")\n",
        "\n",
        "\n",
        "removed_fruit = more_fruits.pop()\n",
        "print(f\"Pop: {removed_fruit}, Remaining: {more_fruits}\")"
      ],
      "metadata": {
        "colab": {
          "base_uri": "https://localhost:8080/"
        },
        "id": "VTcW3CfvjOpO",
        "outputId": "eeff7b8a-b12b-4858-8c6b-0aae1cfde22e"
      },
      "execution_count": null,
      "outputs": [
        {
          "output_type": "stream",
          "name": "stdout",
          "text": [
            "Append: ['apple', 'banana', 'cherry', 'orange']\n",
            "Insert: ['apple', 'grape', 'banana', 'cherry', 'orange']\n",
            "Remove: ['apple', 'grape', 'cherry', 'orange']\n",
            "Shallow Copy: ['lemon', 'grape', 'cherry', 'orange'], Original: ['apple', 'grape', 'cherry', 'orange']\n",
            "Deep Copy: ['kiwi', 'grape', 'cherry', 'orange'], Original: ['apple', 'grape', 'cherry', 'orange']\n",
            "Count of 'apple': 2\n",
            "Extend: ['apple', 'grape', 'cherry', 'orange', 'apple', 'pear', 'pineapple']\n",
            "Index of 'apple': 0\n",
            "Sort: ['apple', 'apple', 'cherry', 'grape', 'orange', 'pear', 'pineapple']\n",
            "Reverse: ['pineapple', 'pear', 'orange', 'grape', 'cherry', 'apple', 'apple']\n",
            "Clear: []\n",
            "Pop: pineapple, Remaining: ['pear']\n"
          ]
        }
      ]
    },
    {
      "cell_type": "code",
      "source": [
        "squares = [x ** 2 for x in range(10)]\n",
        "print(\"List of squares:\", squares)\n",
        "\n",
        "\n",
        "even_numbers = [x for x in range(20) if x % 2 == 0]\n",
        "print(\"Even numbers:\", even_numbers)\n",
        "\n",
        "\n",
        "words = [\"hello\", \"world\", \"python\", \"code\"]\n",
        "uppercased_words = [word.upper() for word in words]\n",
        "print(\"Uppercased words:\", uppercased_words)\n",
        "\n",
        "\n",
        "number_square_pairs = [(x, x ** 2) for x in range(10)]\n",
        "print(\"Number-Square pairs:\", number_square_pairs)\n",
        "\n",
        "\n",
        "nested_list = [[1, 2, 3], [4, 5, 6], [7, 8, 9]]\n",
        "flattened_list = [item for sublist in nested_list for item in sublist]\n",
        "print(\"Flattened list:\", flattened_list)\n"
      ],
      "metadata": {
        "colab": {
          "base_uri": "https://localhost:8080/"
        },
        "id": "5O7DA3bXjVii",
        "outputId": "6c3b1374-4751-4474-8dfd-d6cf3361a1d2"
      },
      "execution_count": null,
      "outputs": [
        {
          "output_type": "stream",
          "name": "stdout",
          "text": [
            "List of squares: [0, 1, 4, 9, 16, 25, 36, 49, 64, 81]\n",
            "Even numbers: [0, 2, 4, 6, 8, 10, 12, 14, 16, 18]\n",
            "Uppercased words: ['HELLO', 'WORLD', 'PYTHON', 'CODE']\n",
            "Number-Square pairs: [(0, 0), (1, 1), (2, 4), (3, 9), (4, 16), (5, 25), (6, 36), (7, 49), (8, 64), (9, 81)]\n",
            "Flattened list: [1, 2, 3, 4, 5, 6, 7, 8, 9]\n"
          ]
        }
      ]
    },
    {
      "cell_type": "code",
      "source": [
        "fruits = [\"apple\", \"banana\", \"cherry\", \"date\", \"elderberry\"]\n",
        "\n",
        "# Accessing elements using positive indexing\n",
        "first_fruit = fruits[0]\n",
        "second_fruit = fruits[1]\n",
        "last_fruit = fruits[-1]\n",
        "print(\"First fruit:\", first_fruit)\n",
        "print(\"Second fruit:\", second_fruit)\n",
        "print(\"Last fruit:\", last_fruit)\n",
        "\n",
        "# Accessing elements using negative indexing\n",
        "second_last_fruit = fruits[-2]\n",
        "third_last_fruit = fruits[-3]\n",
        "print(\"Second last fruit:\", second_last_fruit)\n",
        "print(\"Third last fruit:\", third_last_fruit)\n",
        "\n",
        "# Get the value of an element at a specific index\n",
        "middle_fruit = fruits[2]\n",
        "print(\"Middle fruit:\", middle_fruit)\n",
        "\n",
        "# Change the value of an element at a specific index\n",
        "fruits[1] = \"blueberry\"\n",
        "print(\"Updated fruits:\", fruits)"
      ],
      "metadata": {
        "colab": {
          "base_uri": "https://localhost:8080/"
        },
        "id": "wSjt6LjljVlR",
        "outputId": "a355dd09-6589-494b-92e4-ea40044521f2"
      },
      "execution_count": null,
      "outputs": [
        {
          "output_type": "stream",
          "name": "stdout",
          "text": [
            "First fruit: apple\n",
            "Second fruit: banana\n",
            "Last fruit: elderberry\n",
            "Second last fruit: date\n",
            "Third last fruit: cherry\n",
            "Middle fruit: cherry\n",
            "Updated fruits: ['apple', 'blueberry', 'cherry', 'date', 'elderberry']\n"
          ]
        }
      ]
    },
    {
      "cell_type": "code",
      "source": [
        "fruits = [\"apple\", \"banana\", \"cherry\", \"date\", \"elderberry\", \"fig\", \"grape\"]\n",
        "\n",
        "\n",
        "subset1 = fruits[1:4]\n",
        "print(\"Positive Slicing:\", subset1)\n",
        "\n",
        "\n",
        "subset2 = fruits[1:6:2]\n",
        "print(\"Positive Slicing with Step:\", subset2)\n",
        "\n",
        "subset3 = fruits[-3:]\n",
        "print(\"Negative Slicing:\", subset3)\n",
        "\n",
        "\n",
        "subset4 = fruits[-2:-5:-1]\n",
        "print(\"Negative Slicing with Reverse:\", subset4)\n",
        "\n",
        "\n",
        "middle_subset = fruits[2:5]\n",
        "print(\"Retrieve a Portion:\", middle_subset)\n",
        "\n",
        "fruits[1:3] = [\"blueberry\", \"cranberry\"]\n",
        "print(\"Update a Slice:\", fruits)\n",
        "\n",
        "\n",
        "del fruits[2:4]\n",
        "print(\"Delete a Slice:\", fruits)\n",
        "\n",
        "\n",
        "fruits[1:1] = [\"kiwi\", \"mango\"]\n",
        "print(\"Insert into a Slice:\", fruits)"
      ],
      "metadata": {
        "colab": {
          "base_uri": "https://localhost:8080/"
        },
        "id": "ainDUvHsjVn0",
        "outputId": "db59cfd7-012b-49df-fbab-dcbc191b9d78"
      },
      "execution_count": null,
      "outputs": [
        {
          "output_type": "stream",
          "name": "stdout",
          "text": [
            "Positive Slicing: ['banana', 'cherry', 'date']\n",
            "Positive Slicing with Step: ['banana', 'date', 'fig']\n",
            "Negative Slicing: ['elderberry', 'fig', 'grape']\n",
            "Negative Slicing with Reverse: ['fig', 'elderberry', 'date']\n",
            "Retrieve a Portion: ['cherry', 'date', 'elderberry']\n",
            "Update a Slice: ['apple', 'blueberry', 'cranberry', 'date', 'elderberry', 'fig', 'grape']\n",
            "Delete a Slice: ['apple', 'blueberry', 'elderberry', 'fig', 'grape']\n",
            "Insert into a Slice: ['apple', 'kiwi', 'mango', 'blueberry', 'elderberry', 'fig', 'grape']\n"
          ]
        }
      ]
    },
    {
      "cell_type": "code",
      "source": [
        "fruits = [\"apple\", \"banana\", \"cherry\", \"date\", \"elderberry\"]\n",
        "\n",
        "\n",
        "has_banana = \"banana\" in fruits\n",
        "print(\"Is 'banana' in the list?\", has_banana)\n",
        "\n",
        "# Finding the index of an element\n",
        "banana_index = fruits.index(\"banana\")\n",
        "print(\"Index of 'banana':\", banana_index)\n",
        "\n",
        "# Iterating through the list to find a specific element\n",
        "element_to_find = \"date\"\n",
        "found_element = None\n",
        "for fruit in fruits:\n",
        "    if fruit == element_to_find:\n",
        "        found_element = fruit\n",
        "        break\n",
        "print(\"Found element:\", found_element)"
      ],
      "metadata": {
        "colab": {
          "base_uri": "https://localhost:8080/"
        },
        "id": "VABk1wv0jVqZ",
        "outputId": "ef41d517-1c42-43b4-831a-6277f52892c2"
      },
      "execution_count": null,
      "outputs": [
        {
          "output_type": "stream",
          "name": "stdout",
          "text": [
            "Is 'banana' in the list? True\n",
            "Index of 'banana': 1\n",
            "Found element: date\n"
          ]
        }
      ]
    },
    {
      "cell_type": "code",
      "source": [
        "from functools import reduce\n",
        "\n",
        "\n",
        "numbers = [1, 2, 3, 4, 5]\n",
        "sum_result = reduce(lambda x, y: x + y, numbers)\n",
        "print(\"Sum using reduce:\", sum_result)\n",
        "\n",
        "\n",
        "max_result = reduce(lambda x, y: x if x > y else y, numbers)\n",
        "print(\"Max value using reduce:\", max_result)\n",
        "\n",
        "squares = list(map(lambda x: x ** 2, [1, 2, 3, 4, 5]))\n",
        "print(\"Squares using map:\", squares)\n",
        "\n",
        "\n",
        "words = [\"apple\", \"banana\", \"cherry\"]\n",
        "uppercased = list(map(str.upper, words))\n",
        "print(\"Uppercased words using map:\", uppercased)\n",
        "\n",
        "\n",
        "even_numbers = list(filter(lambda x: x % 2 == 0, [1, 2, 3, 4, 5, 6]))\n",
        "print(\"Even numbers using filter:\", even_numbers)\n",
        "\n",
        "\n",
        "long_words = list(filter(lambda word: len(word) > 5, [\"apple\", \"banana\", \"cherry\", \"date\", \"elderberry\"]))\n",
        "print(\"Long words using filter:\", long_words)\n",
        "\n",
        "\n",
        "fruits = [\"apple\", \"banana\", \"cherry\"]\n",
        "quantities = [10, 20, 30]\n",
        "fruit_quantities = list(zip(fruits, quantities))\n",
        "print(\"Zipped lists:\", fruit_quantities)\n",
        "\n",
        "colors = [\"red\", \"yellow\", \"red\"]\n",
        "fruit_colors_quantities = list(zip(fruits, colors, quantities))\n",
        "print(\"Zipped three lists:\", fruit_colors_quantities)"
      ],
      "metadata": {
        "colab": {
          "base_uri": "https://localhost:8080/"
        },
        "id": "-dpoOhomjVs-",
        "outputId": "7540740c-de75-4248-ec15-08013dd9c302"
      },
      "execution_count": null,
      "outputs": [
        {
          "output_type": "stream",
          "name": "stdout",
          "text": [
            "Sum using reduce: 15\n",
            "Max value using reduce: 5\n",
            "Squares using map: [1, 4, 9, 16, 25]\n",
            "Uppercased words using map: ['APPLE', 'BANANA', 'CHERRY']\n",
            "Even numbers using filter: [2, 4, 6]\n",
            "Long words using filter: ['banana', 'cherry', 'elderberry']\n",
            "Zipped lists: [('apple', 10), ('banana', 20), ('cherry', 30)]\n",
            "Zipped three lists: [('apple', 'red', 10), ('banana', 'yellow', 20), ('cherry', 'red', 30)]\n"
          ]
        }
      ]
    },
    {
      "cell_type": "code",
      "source": [
        "languages = ['Python', 'Swift', 'C++']\n",
        "\n",
        "\n",
        "print(languages[0])\n",
        "\n",
        "print(languages[2])"
      ],
      "metadata": {
        "colab": {
          "base_uri": "https://localhost:8080/"
        },
        "id": "2Lw6KfFcjVwY",
        "outputId": "8bbddbd6-6e99-4de7-d255-7702a58c29e9"
      },
      "execution_count": null,
      "outputs": [
        {
          "output_type": "stream",
          "name": "stdout",
          "text": [
            "Python\n",
            "C++\n"
          ]
        }
      ]
    },
    {
      "cell_type": "code",
      "source": [
        "fruits = ['apple', 'banana', 'orange']\n",
        "print('Original List:', fruits)\n",
        "\n",
        "\n",
        "fruits.append('cherry')\n",
        "\n",
        "print('Updated List:', fruits)"
      ],
      "metadata": {
        "colab": {
          "base_uri": "https://localhost:8080/"
        },
        "id": "4fdHdA6Vjr1R",
        "outputId": "a33539c8-442b-4241-de63-2ed46569ecf6"
      },
      "execution_count": null,
      "outputs": [
        {
          "output_type": "stream",
          "name": "stdout",
          "text": [
            "Original List: ['apple', 'banana', 'orange']\n",
            "Updated List: ['apple', 'banana', 'orange', 'cherry']\n"
          ]
        }
      ]
    },
    {
      "cell_type": "code",
      "source": [
        "colors = ['Red', 'Black', 'Green']\n",
        "print('Original List:', colors)\n",
        "\n",
        "colors[2] = 'Blue'\n",
        "\n",
        "print('Updated List:', colors)"
      ],
      "metadata": {
        "colab": {
          "base_uri": "https://localhost:8080/"
        },
        "id": "T38lEcdsjr3t",
        "outputId": "332eef11-c0fa-45a6-d6fb-993d3465f431"
      },
      "execution_count": null,
      "outputs": [
        {
          "output_type": "stream",
          "name": "stdout",
          "text": [
            "Original List: ['Red', 'Black', 'Green']\n",
            "Updated List: ['Red', 'Black', 'Blue']\n"
          ]
        }
      ]
    },
    {
      "cell_type": "code",
      "source": [
        "numbers = [2,4,7,9]\n",
        "\n",
        "\n",
        "numbers.remove(4)\n",
        "\n",
        "print(numbers)"
      ],
      "metadata": {
        "colab": {
          "base_uri": "https://localhost:8080/"
        },
        "id": "opCE_UtEjr6d",
        "outputId": "d743673f-f3ba-4cef-e4aa-ca0b448c5005"
      },
      "execution_count": null,
      "outputs": [
        {
          "output_type": "stream",
          "name": "stdout",
          "text": [
            "[2, 7, 9]\n"
          ]
        }
      ]
    },
    {
      "cell_type": "code",
      "source": [
        "cars = ['BMW', 'Mercedes', 'Tesla']\n",
        "\n",
        "print('Total Elements: ', len(cars))"
      ],
      "metadata": {
        "colab": {
          "base_uri": "https://localhost:8080/"
        },
        "id": "OKwQKzpwjr9t",
        "outputId": "cc1ad8aa-3663-40cb-9f1f-cbb9b01ef85c"
      },
      "execution_count": null,
      "outputs": [
        {
          "output_type": "stream",
          "name": "stdout",
          "text": [
            "Total Elements:  3\n"
          ]
        }
      ]
    },
    {
      "cell_type": "markdown",
      "source": [
        "### TUPLE\n"
      ],
      "metadata": {
        "id": "snJG9W79j7yb"
      }
    },
    {
      "cell_type": "code",
      "source": [
        "x= (\"apple\", \"banana\", \"cherry\", \"apple\", \"cherry\")\n",
        "print(x)\n",
        "\n",
        "thistuple = tuple((\"apple\", \"banana\", \"cherry\"))\n",
        "print(len(thistuple))\n"
      ],
      "metadata": {
        "colab": {
          "base_uri": "https://localhost:8080/"
        },
        "id": "HPiyt4bLj-Cx",
        "outputId": "6fc5d4d2-a2f1-43a3-f8d9-765a2fb39239"
      },
      "execution_count": null,
      "outputs": [
        {
          "output_type": "stream",
          "name": "stdout",
          "text": [
            "('apple', 'banana', 'cherry', 'apple', 'cherry')\n",
            "3\n"
          ]
        }
      ]
    },
    {
      "cell_type": "code",
      "source": [
        "tuple1 = (\"abc\", 34, True, 40, \"male\")\n",
        "print(tuple1)\n"
      ],
      "metadata": {
        "colab": {
          "base_uri": "https://localhost:8080/"
        },
        "id": "0spZ7aYaj-GL",
        "outputId": "1693d207-eeb9-4c2d-f2b6-05ac5a092e5e"
      },
      "execution_count": null,
      "outputs": [
        {
          "output_type": "stream",
          "name": "stdout",
          "text": [
            "('abc', 34, True, 40, 'male')\n"
          ]
        }
      ]
    },
    {
      "cell_type": "code",
      "source": [
        "q = tuple((\"apple\", \"banana\", \"cherry\"))\n",
        "print(q)\n",
        "\n",
        "w = (\"apple\", \"banana\", \"cherry\")\n",
        "print(w[1])\n",
        "\n",
        "\n",
        "e = (\"apple\", \"banana\", \"cherry\", \"orange\", \"kiwi\", \"melon\", \"mango\")\n",
        "print(e[2:5])\n",
        "\n",
        "t= (\"apple\", \"banana\", \"cherry\", \"orange\", \"kiwi\", \"melon\", \"mango\")\n",
        "print(t[:4])\n",
        "\n",
        "le = (\"apple\", \"banana\", \"cherry\", \"orange\", \"kiwi\", \"melon\", \"mango\")\n",
        "print(le[-4:-1])"
      ],
      "metadata": {
        "colab": {
          "base_uri": "https://localhost:8080/"
        },
        "id": "5Le4PMEwj-Qe",
        "outputId": "652d5e7e-303c-478f-b78f-e5dc962df4c4"
      },
      "execution_count": null,
      "outputs": [
        {
          "output_type": "stream",
          "name": "stdout",
          "text": [
            "('apple', 'banana', 'cherry')\n",
            "banana\n",
            "('cherry', 'orange', 'kiwi')\n",
            "('apple', 'banana', 'cherry', 'orange')\n",
            "('orange', 'kiwi', 'melon')\n"
          ]
        }
      ]
    },
    {
      "cell_type": "code",
      "source": [
        "thistuple = (\"apple\", \"banana\", \"cherry\")\n",
        "y = list(thistuple)\n",
        "y.append(\"orange\")\n",
        "thistuple = tuple(y)\n",
        "\n",
        "print(thistuple)\n"
      ],
      "metadata": {
        "colab": {
          "base_uri": "https://localhost:8080/"
        },
        "id": "dyP0dPU_j-YT",
        "outputId": "eb98b50b-8640-4ea8-fd47-a38d76c16dc8"
      },
      "execution_count": null,
      "outputs": [
        {
          "output_type": "stream",
          "name": "stdout",
          "text": [
            "('apple', 'banana', 'cherry', 'orange')\n"
          ]
        }
      ]
    },
    {
      "cell_type": "code",
      "source": [
        "thistuple = (\"apple\", \"banana\", \"cherry\")\n",
        "del thistuple\n",
        "print(thistuple)"
      ],
      "metadata": {
        "colab": {
          "base_uri": "https://localhost:8080/",
          "height": 176
        },
        "id": "l1HA3KDqj-cQ",
        "outputId": "64e58490-f8ff-4b7f-825e-ee4e6d55c8cc"
      },
      "execution_count": null,
      "outputs": [
        {
          "output_type": "error",
          "ename": "NameError",
          "evalue": "name 'thistuple' is not defined",
          "traceback": [
            "\u001b[0;31m---------------------------------------------------------------------------\u001b[0m",
            "\u001b[0;31mNameError\u001b[0m                                 Traceback (most recent call last)",
            "\u001b[0;32m<ipython-input-16-7255dda8a7d6>\u001b[0m in \u001b[0;36m<cell line: 3>\u001b[0;34m()\u001b[0m\n\u001b[1;32m      1\u001b[0m \u001b[0mthistuple\u001b[0m \u001b[0;34m=\u001b[0m \u001b[0;34m(\u001b[0m\u001b[0;34m\"apple\"\u001b[0m\u001b[0;34m,\u001b[0m \u001b[0;34m\"banana\"\u001b[0m\u001b[0;34m,\u001b[0m \u001b[0;34m\"cherry\"\u001b[0m\u001b[0;34m)\u001b[0m\u001b[0;34m\u001b[0m\u001b[0;34m\u001b[0m\u001b[0m\n\u001b[1;32m      2\u001b[0m \u001b[0;32mdel\u001b[0m \u001b[0mthistuple\u001b[0m\u001b[0;34m\u001b[0m\u001b[0;34m\u001b[0m\u001b[0m\n\u001b[0;32m----> 3\u001b[0;31m \u001b[0mprint\u001b[0m\u001b[0;34m(\u001b[0m\u001b[0mthistuple\u001b[0m\u001b[0;34m)\u001b[0m\u001b[0;34m\u001b[0m\u001b[0;34m\u001b[0m\u001b[0m\n\u001b[0m",
            "\u001b[0;31mNameError\u001b[0m: name 'thistuple' is not defined"
          ]
        }
      ]
    },
    {
      "cell_type": "code",
      "source": [
        "fruits = (\"apple\", \"mango\", \"papaya\", \"pineapple\", \"cherry\")\n",
        "\n",
        "(green, *tropic, red) = fruits\n",
        "\n",
        "print(green)\n",
        "print(tropic)\n",
        "print(red)"
      ],
      "metadata": {
        "colab": {
          "base_uri": "https://localhost:8080/"
        },
        "id": "NVc1b2__j-fq",
        "outputId": "21117a7c-5e08-4148-b6ca-c695c8d115f1"
      },
      "execution_count": null,
      "outputs": [
        {
          "output_type": "stream",
          "name": "stdout",
          "text": [
            "apple\n",
            "['mango', 'papaya', 'pineapple']\n",
            "cherry\n"
          ]
        }
      ]
    },
    {
      "cell_type": "code",
      "source": [
        "i = (\"apple\", \"banana\", \"cherry\")\n",
        "for x in i:\n",
        "  print(x)"
      ],
      "metadata": {
        "colab": {
          "base_uri": "https://localhost:8080/"
        },
        "id": "XrMcKuVpkNI8",
        "outputId": "170d014c-c9dd-48a4-8335-7b2053d1c777"
      },
      "execution_count": null,
      "outputs": [
        {
          "output_type": "stream",
          "name": "stdout",
          "text": [
            "apple\n",
            "banana\n",
            "cherry\n"
          ]
        }
      ]
    },
    {
      "cell_type": "code",
      "source": [
        "repeated_number = 5\n",
        "repetitions = 3\n",
        "repeated_tuple = tuple(range(repeated_number)) * repetitions\n",
        "\n",
        "print(\"Tuple with repeated elements:\", repeated_tuple)\n",
        "\n",
        "tuple = (\"apple\", \"banana\", \"cherry\")\n",
        "i = 0\n",
        "while i < len(tuple):\n",
        "  print(tuple[i])\n",
        "  i = i + 1"
      ],
      "metadata": {
        "colab": {
          "base_uri": "https://localhost:8080/"
        },
        "id": "NGsn9GRDkNLM",
        "outputId": "6d389c0a-ea1d-4db5-dde2-66249b586acc"
      },
      "execution_count": null,
      "outputs": [
        {
          "output_type": "stream",
          "name": "stdout",
          "text": [
            "Tuple with repeated elements: (0, 1, 2, 3, 4, 0, 1, 2, 3, 4, 0, 1, 2, 3, 4)\n",
            "apple\n",
            "banana\n",
            "cherry\n"
          ]
        }
      ]
    },
    {
      "cell_type": "code",
      "source": [
        "tuple1 = (1, 2, 3)\n",
        "tuple2 = (4, 5, 6)\n",
        "\n",
        "joined_tuple = tuple1 + tuple2\n",
        "\n",
        "print(\"Joined tuple:\", joined_tuple)"
      ],
      "metadata": {
        "colab": {
          "base_uri": "https://localhost:8080/"
        },
        "id": "Ks2HRJJRkNNi",
        "outputId": "f7537e2d-8bcc-449b-e1dd-6625443c716e"
      },
      "execution_count": null,
      "outputs": [
        {
          "output_type": "stream",
          "name": "stdout",
          "text": [
            "Joined tuple: (1, 2, 3, 4, 5, 6)\n"
          ]
        }
      ]
    },
    {
      "cell_type": "code",
      "source": [
        "fruits = (\"apple\", \"banana\", \"cherry\")\n",
        "mytuple = fruits * 2\n",
        "\n",
        "print(mytuple)"
      ],
      "metadata": {
        "colab": {
          "base_uri": "https://localhost:8080/"
        },
        "id": "B_efhOExkNQF",
        "outputId": "3cd021ac-ac96-4800-e8bb-f3382dbd919d"
      },
      "execution_count": null,
      "outputs": [
        {
          "output_type": "stream",
          "name": "stdout",
          "text": [
            "('apple', 'banana', 'cherry', 'apple', 'banana', 'cherry')\n"
          ]
        }
      ]
    },
    {
      "cell_type": "code",
      "source": [
        "my_list = ['apple', 'banana', 'cherry', 'date']\n",
        "print(my_list[:2])\n",
        "print(my_list[2:])\n",
        "\n",
        "\n",
        "numbers = [1, 2, 3, 4, 5, 6, 7, 8, 9]\n",
        "numbers[1:4] = [10, 20, 30]\n",
        "print(numbers)\n",
        "\n",
        "numbers[4:4] = [40, 50]\n",
        "print(numbers)"
      ],
      "metadata": {
        "colab": {
          "base_uri": "https://localhost:8080/"
        },
        "id": "raxGS7LmkNSt",
        "outputId": "99173b85-e614-4ce4-df9d-88dfbb21a37a"
      },
      "execution_count": null,
      "outputs": [
        {
          "output_type": "stream",
          "name": "stdout",
          "text": [
            "['apple', 'banana']\n",
            "['cherry', 'date']\n",
            "[1, 10, 20, 30, 5, 6, 7, 8, 9]\n",
            "[1, 10, 20, 30, 40, 50, 5, 6, 7, 8, 9]\n"
          ]
        }
      ]
    },
    {
      "cell_type": "code",
      "source": [
        "Tuple1 = (0, 1, 2, 3, 2, 3, 1, 3, 2)\n",
        "Tuple2 = ('python', 'geek', 'python','for', 'java', 'python')\n",
        "\n",
        "res = Tuple1.count(3)\n",
        "print('Count of 3 in Tuple1 is:', res)\n",
        "\n",
        "res = Tuple2.count('python')\n",
        "print('Count of Python in Tuple2 is:', res)\n",
        "\n",
        "\n",
        "\n",
        "Tuple = (0, 1, (2, 3), (2, 3), 1, [3, 2], 'geeks', (0,))\n",
        "\n",
        "res = Tuple.count((2, 3))\n",
        "print('Count of (2, 3) in Tuple is:', res)\n",
        "\n",
        "\n",
        "res = Tuple.count([3, 2])\n",
        "print('Count of [3, 2] in Tuple is:', res)\n",
        "\n",
        "\n",
        "3.\n",
        "fruits_tuple = (\"apple\", \"banana\", \"orange\", \"apple\", \"grape\")\n",
        "apple_count = fruits_tuple.count(\"apple\")\n",
        "print(\"Number of apples:\", apple_count)\n",
        "\n",
        "\n",
        "4.\n",
        "numbers_tuple = (1, 2, 3, 2, 1, 4)\n",
        "count_1 = numbers_tuple.count(1)\n",
        "count_2 = numbers_tuple.count(2)\n",
        "print(\"Count of 1:\", count_1)\n",
        "print(\"Count of 2:\", count_2)"
      ],
      "metadata": {
        "colab": {
          "base_uri": "https://localhost:8080/"
        },
        "id": "Gc_UsdhnkNV7",
        "outputId": "468c15e0-59c3-49b7-f380-fdcfd86a60da"
      },
      "execution_count": null,
      "outputs": [
        {
          "output_type": "stream",
          "name": "stdout",
          "text": [
            "Count of 3 in Tuple1 is: 3\n",
            "Count of Python in Tuple2 is: 3\n",
            "Count of (2, 3) in Tuple is: 2\n",
            "Count of [3, 2] in Tuple is: 1\n",
            "Number of apples: 2\n",
            "Count of 1: 2\n",
            "Count of 2: 2\n"
          ]
        }
      ]
    },
    {
      "cell_type": "code",
      "source": [
        "fruits_tuple = (\"apple\", \"banana\", \"cherry\", \"banana\")\n",
        "\n",
        "\n",
        "index_of_banana = fruits_tuple.index(\"banana\")\n",
        "print(index_of_banana)\n",
        "\n",
        "try:\n",
        "  index_of_mango = fruits_tuple.index(\"mango\")\n",
        "except ValueError:\n",
        "  print(\"Element 'mango' not found in the tuple\")\n"
      ],
      "metadata": {
        "colab": {
          "base_uri": "https://localhost:8080/"
        },
        "id": "9W4v0js7khcN",
        "outputId": "6305ffe3-d0f0-4cf9-f020-1746aafcc467"
      },
      "execution_count": null,
      "outputs": [
        {
          "output_type": "stream",
          "name": "stdout",
          "text": [
            "1\n",
            "Element 'mango' not found in the tuple\n"
          ]
        }
      ]
    },
    {
      "cell_type": "code",
      "source": [
        "numbers_list = [1, 5, 2, 8, 3]\n",
        "largest = max(numbers_list)\n",
        "print(\"Largest number:\", largest)\n",
        "\n",
        "numbers_tuple = (10, 20, 30)\n",
        "largest = max(numbers_tuple)\n",
        "print(\"Largest number in tuple:\", largest)"
      ],
      "metadata": {
        "colab": {
          "base_uri": "https://localhost:8080/"
        },
        "id": "QJOdfCMnkhe6",
        "outputId": "752242f6-11d4-488e-d7cf-17d8c7b3c7b0"
      },
      "execution_count": null,
      "outputs": [
        {
          "output_type": "stream",
          "name": "stdout",
          "text": [
            "Largest number: 8\n",
            "Largest number in tuple: 30\n"
          ]
        }
      ]
    },
    {
      "cell_type": "code",
      "source": [
        "numbers_list = [1, 5, 2, 8, 3]\n",
        "smallest = min(numbers_list)\n",
        "print(\"Smallest number:\", smallest)  # Output: Smallest number: 1\n",
        "\n",
        "numbers_tuple = (10, 20, 30)\n",
        "smallest = min(numbers_tuple)\n",
        "print(\"Smallest number in tuple:\", smallest)"
      ],
      "metadata": {
        "colab": {
          "base_uri": "https://localhost:8080/"
        },
        "id": "fr0jiENwkhig",
        "outputId": "3faacc25-3168-4113-8e8f-391df8ef6c40"
      },
      "execution_count": null,
      "outputs": [
        {
          "output_type": "stream",
          "name": "stdout",
          "text": [
            "Smallest number: 1\n",
            "Smallest number in tuple: 10\n"
          ]
        }
      ]
    },
    {
      "cell_type": "code",
      "source": [
        "numbers_list = [1, 5, 2, 8, 3]\n",
        "sorted_list = sorted(numbers_list)\n",
        "print(\"Sorted list:\", sorted_list)  # Output: Sorted list: [1, 2, 3, 5, 8]\n",
        "\n",
        "numbers_tuple = (10, 20, 30, 4, 5)\n",
        "sorted_tuple = sorted(numbers_tuple)\n",
        "print(\"Sorted tuple:\", sorted_tuple)"
      ],
      "metadata": {
        "colab": {
          "base_uri": "https://localhost:8080/"
        },
        "id": "YMQmrV2Xkhmp",
        "outputId": "af64105a-abf3-420a-f946-1021524cc3f8"
      },
      "execution_count": null,
      "outputs": [
        {
          "output_type": "stream",
          "name": "stdout",
          "text": [
            "Sorted list: [1, 2, 3, 5, 8]\n",
            "Sorted tuple: [4, 5, 10, 20, 30]\n"
          ]
        }
      ]
    },
    {
      "cell_type": "code",
      "source": [
        "fruits_list = [\"apple\", \"banana\", \"cherry\"]\n",
        "fruits_tuple = (\"mango\", \"kiwi\", \"grape\")\n",
        "\n",
        "smallest_fruit_list = min(fruits_list)\n",
        "smallest_fruit_tuple = min(fruits_tuple)\n",
        "\n",
        "print(\"Smallest fruit in list:\", smallest_fruit_list)\n",
        "print(\"Smallest fruit in tuple:\", smallest_fruit_tuple)"
      ],
      "metadata": {
        "colab": {
          "base_uri": "https://localhost:8080/"
        },
        "id": "nOa4JFXCkhp6",
        "outputId": "28aaf8bf-17a5-419b-aad5-2671f748a648"
      },
      "execution_count": null,
      "outputs": [
        {
          "output_type": "stream",
          "name": "stdout",
          "text": [
            "Smallest fruit in list: apple\n",
            "Smallest fruit in tuple: grape\n"
          ]
        }
      ]
    },
    {
      "cell_type": "code",
      "source": [
        "numbers_list = [1, 5, 2, 8]\n",
        "numbers_tuple = (3, 7, 9, 0)\n",
        "\n",
        "largest_number_list = max(numbers_list)\n",
        "largest_number_tuple = max(numbers_tuple)\n",
        "\n",
        "print(\"Largest number in list:\", largest_number_list)\n",
        "print(\"Largest number in tuple:\", largest_number_tuple)"
      ],
      "metadata": {
        "colab": {
          "base_uri": "https://localhost:8080/"
        },
        "id": "sXltpMcikuGy",
        "outputId": "30d8baaf-fc6b-47d6-9ef2-cf974d5d3b96"
      },
      "execution_count": null,
      "outputs": [
        {
          "output_type": "stream",
          "name": "stdout",
          "text": [
            "Largest number in list: 8\n",
            "Largest number in tuple: 9\n"
          ]
        }
      ]
    },
    {
      "cell_type": "code",
      "source": [
        "numbers_list = [4, 7, 2, 11]\n",
        "numbers_tuple = (6, 3, 8, 1)\n",
        "\n",
        "list_sum = sum(numbers_list)\n",
        "tuple_sum = sum(numbers_tuple)\n",
        "\n",
        "print(\"Sum of list elements:\", list_sum)\n",
        "print(\"Sum of tuple elements:\", tuple_sum)"
      ],
      "metadata": {
        "colab": {
          "base_uri": "https://localhost:8080/"
        },
        "id": "TeWXiP7ekuJr",
        "outputId": "a55c0704-b344-430a-bd1d-bb0bea035958"
      },
      "execution_count": null,
      "outputs": [
        {
          "output_type": "stream",
          "name": "stdout",
          "text": [
            "Sum of list elements: 24\n",
            "Sum of tuple elements: 18\n"
          ]
        }
      ]
    },
    {
      "cell_type": "markdown",
      "source": [
        "### DICTIONARY\n"
      ],
      "metadata": {
        "id": "YXXNpVShk38m"
      }
    },
    {
      "cell_type": "code",
      "source": [
        "empty_dict = dict()\n",
        "\n",
        "person = {'name': 'John', 'age': 30, 'city': 'New York'}\n",
        "print(person)\n",
        ""
      ],
      "metadata": {
        "id": "aFNrnxXm8nRI",
        "colab": {
          "base_uri": "https://localhost:8080/"
        },
        "outputId": "80253f04-bca7-4c3d-d2ea-29dbe15cdd53"
      },
      "execution_count": 3,
      "outputs": [
        {
          "output_type": "stream",
          "name": "stdout",
          "text": [
            "{'name': 'John', 'age': 30, 'city': 'New York'}\n"
          ]
        }
      ]
    },
    {
      "cell_type": "code",
      "source": [
        "print(person['name'])\n",
        "print(person.get('age'))\n",
        "\n",
        "person['age'] = 31"
      ],
      "metadata": {
        "id": "n2AbnAuk8ncp",
        "colab": {
          "base_uri": "https://localhost:8080/"
        },
        "outputId": "a7f426ff-110e-4f2c-c7e1-471e9b6ea8b7"
      },
      "execution_count": 2,
      "outputs": [
        {
          "output_type": "stream",
          "name": "stdout",
          "text": [
            "John\n",
            "30\n"
          ]
        }
      ]
    },
    {
      "cell_type": "code",
      "source": [
        "person = {\n",
        "    'name': 'John Doe',\n",
        "    'age': 30,\n",
        "    'address': {\n",
        "        'street': '123 Main St',\n",
        "        'city': 'New York',\n",
        "        'state': 'NY'\n",
        "    }\n",
        "}\n",
        "\n",
        "\n",
        "print(person['name'])\n",
        "print(person['address']['city'])"
      ],
      "metadata": {
        "id": "Wwlq3hcc8nf1",
        "colab": {
          "base_uri": "https://localhost:8080/"
        },
        "outputId": "ac595b40-c45d-4d1a-8559-8c5210934823"
      },
      "execution_count": 4,
      "outputs": [
        {
          "output_type": "stream",
          "name": "stdout",
          "text": [
            "John Doe\n",
            "New York\n"
          ]
        }
      ]
    },
    {
      "cell_type": "code",
      "source": [
        "config = {\n",
        "    'debug': True,\n",
        "    'log_file': 'app.log',\n",
        "    'database': {\n",
        "        'host': 'localhost',\n",
        "        'user': 'root',\n",
        "        'password': 'secret'\n",
        "    }\n",
        "}\n",
        "debug_mode = config['debug']\n",
        "log_file = config['log_file']\n",
        "db_host = config['database']['host']\n",
        "db_user = config['database']['user']\n",
        "db_password = config['database']['password']\n",
        "\n"
      ],
      "metadata": {
        "id": "8EMOiS8V8ni5"
      },
      "execution_count": 8,
      "outputs": []
    },
    {
      "cell_type": "code",
      "source": [
        "sentence = \"Hello, world! Hello, Python!\"\n",
        "word_counts = {}\n",
        "\n",
        "for word in sentence.split():\n",
        "    if word in word_counts:\n",
        "        word_counts[word] += 1\n",
        "    else:\n",
        "        word_counts[word] = 1\n",
        "\n",
        "print(word_counts)"
      ],
      "metadata": {
        "id": "kw7zsDYo8nlw",
        "colab": {
          "base_uri": "https://localhost:8080/"
        },
        "outputId": "b9c8f4a8-74bb-433f-db9d-052095384e6b"
      },
      "execution_count": 9,
      "outputs": [
        {
          "output_type": "stream",
          "name": "stdout",
          "text": [
            "{'Hello,': 2, 'world!': 1, 'Python!': 1}\n"
          ]
        }
      ]
    },
    {
      "cell_type": "code",
      "source": [
        "data = [\n",
        "    {'name': 'John', 'age': 25, 'city': 'New York'},\n",
        "    {'name': 'Jane', 'age': 30, 'city': 'Los Angeles'},\n",
        "    {'name': 'Bob', 'age': 35, 'city': 'Chicago'}\n",
        "]\n",
        "\n",
        "\n",
        "filtered_data = [person for person in data if person['age'] > 30]\n",
        "print(filtered_data)\n",
        "\n",
        "\n",
        "grouped_data = {}\n",
        "for person in data:\n",
        "    city = person['city']\n",
        "    if city in grouped_data:\n",
        "        grouped_data[city].append(person)\n",
        "    else:\n",
        "        grouped_data[city] = [person]\n",
        "\n",
        "print(grouped_data)"
      ],
      "metadata": {
        "id": "SGbEveXj8noe",
        "colab": {
          "base_uri": "https://localhost:8080/"
        },
        "outputId": "cd6fd9e8-d5e3-4ec1-b3a2-5ad76a6ae14e"
      },
      "execution_count": 10,
      "outputs": [
        {
          "output_type": "stream",
          "name": "stdout",
          "text": [
            "[{'name': 'Bob', 'age': 35, 'city': 'Chicago'}]\n",
            "{'New York': [{'name': 'John', 'age': 25, 'city': 'New York'}], 'Los Angeles': [{'name': 'Jane', 'age': 30, 'city': 'Los Angeles'}], 'Chicago': [{'name': 'Bob', 'age': 35, 'city': 'Chicago'}]}\n"
          ]
        }
      ]
    },
    {
      "cell_type": "code",
      "source": [
        "keys = person.keys()\n",
        "print(keys)"
      ],
      "metadata": {
        "id": "P15bsVSu8nrU",
        "colab": {
          "base_uri": "https://localhost:8080/"
        },
        "outputId": "7e204c05-c5d9-4e4e-b02e-0d5c4ce33c65"
      },
      "execution_count": 11,
      "outputs": [
        {
          "output_type": "stream",
          "name": "stdout",
          "text": [
            "dict_keys(['name', 'age', 'city'])\n"
          ]
        }
      ]
    },
    {
      "cell_type": "code",
      "source": [
        "values = person.values()\n",
        "print(values)"
      ],
      "metadata": {
        "id": "EDUNvGqq8nt8",
        "colab": {
          "base_uri": "https://localhost:8080/"
        },
        "outputId": "3875cded-ac2c-4177-d2e6-74ab86cb8c38"
      },
      "execution_count": 12,
      "outputs": [
        {
          "output_type": "stream",
          "name": "stdout",
          "text": [
            "dict_values(['Bob', 35, 'Chicago'])\n"
          ]
        }
      ]
    },
    {
      "cell_type": "code",
      "source": [
        "items = person.items()\n",
        "print(items)"
      ],
      "metadata": {
        "id": "JYN9zdRv8nxe",
        "colab": {
          "base_uri": "https://localhost:8080/"
        },
        "outputId": "7a765d0d-587b-4261-e78e-baa6954664d6"
      },
      "execution_count": 13,
      "outputs": [
        {
          "output_type": "stream",
          "name": "stdout",
          "text": [
            "dict_items([('name', 'Bob'), ('age', 35), ('city', 'Chicago')])\n"
          ]
        }
      ]
    },
    {
      "cell_type": "code",
      "source": [
        "print(person.get('Name'))\n",
        "print(person.get('phonenumber', 0))"
      ],
      "metadata": {
        "colab": {
          "base_uri": "https://localhost:8080/"
        },
        "id": "FfCsFGTx_1qA",
        "outputId": "912347f3-a237-4687-c1b4-7e6293e34f67"
      },
      "execution_count": 14,
      "outputs": [
        {
          "output_type": "stream",
          "name": "stdout",
          "text": [
            "None\n",
            "0\n"
          ]
        }
      ]
    },
    {
      "cell_type": "code",
      "source": [
        "my_dict = {'apple': 1, 'banana': 2, 'orange': 3}\n",
        "removed_value = my_dict.pop('banana')\n",
        "print(removed_value)\n",
        "print(my_dict)"
      ],
      "metadata": {
        "colab": {
          "base_uri": "https://localhost:8080/"
        },
        "id": "8QkntAjh_1s7",
        "outputId": "1b9cf65e-7b0a-493c-e959-737f511079ab"
      },
      "execution_count": 15,
      "outputs": [
        {
          "output_type": "stream",
          "name": "stdout",
          "text": [
            "2\n",
            "{'apple': 1, 'orange': 3}\n"
          ]
        }
      ]
    },
    {
      "cell_type": "code",
      "source": [
        "my_dict.clear()\n",
        "print(my_dict)"
      ],
      "metadata": {
        "colab": {
          "base_uri": "https://localhost:8080/"
        },
        "id": "_a_dnXu7_1vk",
        "outputId": "0cb8d381-b201-424c-9b8c-22771e22200a"
      },
      "execution_count": 16,
      "outputs": [
        {
          "output_type": "stream",
          "name": "stdout",
          "text": [
            "{}\n"
          ]
        }
      ]
    },
    {
      "cell_type": "code",
      "source": [
        "new_dic = person.copy()\n",
        "print(new_dic)"
      ],
      "metadata": {
        "colab": {
          "base_uri": "https://localhost:8080/"
        },
        "id": "I6-BTniGAAl-",
        "outputId": "b11d4fc2-dc24-4b3b-9d9d-9be049052539"
      },
      "execution_count": 17,
      "outputs": [
        {
          "output_type": "stream",
          "name": "stdout",
          "text": [
            "{'name': 'Bob', 'age': 35, 'city': 'Chicago'}\n"
          ]
        }
      ]
    },
    {
      "cell_type": "code",
      "source": [
        "numbers = [1, 2, 3, 4, 5]\n",
        "\n",
        "\n",
        "squares = {num: num**2 for num in numbers}\n",
        "print(squares)"
      ],
      "metadata": {
        "colab": {
          "base_uri": "https://localhost:8080/"
        },
        "id": "oPQFwiWgAAsl",
        "outputId": "09e0fe6d-aad7-4908-8b73-504964d97544"
      },
      "execution_count": 22,
      "outputs": [
        {
          "output_type": "stream",
          "name": "stdout",
          "text": [
            "{1: 1, 2: 4, 3: 9, 4: 16, 5: 25}\n"
          ]
        }
      ]
    },
    {
      "cell_type": "code",
      "source": [
        "original = {'a': 1, 'b': 2, 'c': 3}\n",
        "\n",
        "swapped = {value: key for key, value in original.items()}\n",
        "print(swapped)"
      ],
      "metadata": {
        "colab": {
          "base_uri": "https://localhost:8080/"
        },
        "id": "1rloB4enAAwH",
        "outputId": "e69b65d2-aff5-4279-ce9c-b0c0c499a5ad"
      },
      "execution_count": 23,
      "outputs": [
        {
          "output_type": "stream",
          "name": "stdout",
          "text": [
            "{1: 'a', 2: 'b', 3: 'c'}\n"
          ]
        }
      ]
    },
    {
      "cell_type": "code",
      "source": [
        "numbers = [1, 2, 3, 4, 5, 6, 7, 8, 9, 10]\n",
        "even_cubes = {num: num**3 for num in numbers if num % 2 == 0}\n",
        "print(even_cubes)"
      ],
      "metadata": {
        "colab": {
          "base_uri": "https://localhost:8080/"
        },
        "id": "SAINZR9O_1y_",
        "outputId": "d78623fb-6615-498b-fc21-ab4ee12c83b4"
      },
      "execution_count": 24,
      "outputs": [
        {
          "output_type": "stream",
          "name": "stdout",
          "text": [
            "{2: 8, 4: 64, 6: 216, 8: 512, 10: 1000}\n"
          ]
        }
      ]
    },
    {
      "cell_type": "code",
      "source": [
        "keys = ['a', 'b', 'c', 'd', 'e']\n",
        "\n",
        "values = [1, 2, 3, 4, 5]\n",
        "\n",
        "new_dict = {key: value for key, value in zip(keys, values)}\n",
        "print(new_dict)"
      ],
      "metadata": {
        "colab": {
          "base_uri": "https://localhost:8080/"
        },
        "id": "-vvbtmRxBBZ1",
        "outputId": "87159b6c-8536-403d-b79d-680ca66e6193"
      },
      "execution_count": 25,
      "outputs": [
        {
          "output_type": "stream",
          "name": "stdout",
          "text": [
            "{'a': 1, 'b': 2, 'c': 3, 'd': 4, 'e': 5}\n"
          ]
        }
      ]
    },
    {
      "cell_type": "code",
      "source": [
        "person = {\n",
        "    'name': 'John',\n",
        "    'age': 30,\n",
        "    'contact': {\n",
        "        'email': 'john@example.com',\n",
        "        'phone': '123-456-7890'\n",
        "    }\n",
        "}\n",
        "\n",
        "print(person['contact']['email'])"
      ],
      "metadata": {
        "colab": {
          "base_uri": "https://localhost:8080/"
        },
        "id": "qboVJ8LHBBcf",
        "outputId": "38fe6f36-e121-4479-fecf-279a5e6ef705"
      },
      "execution_count": 26,
      "outputs": [
        {
          "output_type": "stream",
          "name": "stdout",
          "text": [
            "john@example.com\n"
          ]
        }
      ]
    },
    {
      "cell_type": "code",
      "source": [
        "sentence = \"Hello, world! Hello, Python!\"\n",
        "word_counts = {}\n",
        "\n",
        "for word in sentence.split():\n",
        "    if word in word_counts:\n",
        "        word_counts[word] += 1\n",
        "    else:\n",
        "        word_counts[word] = 1\n",
        "\n",
        "print(word_counts)"
      ],
      "metadata": {
        "colab": {
          "base_uri": "https://localhost:8080/"
        },
        "id": "DghjRwTKBBfF",
        "outputId": "4c1a5d70-deab-4892-ff1b-810fca162a8b"
      },
      "execution_count": 27,
      "outputs": [
        {
          "output_type": "stream",
          "name": "stdout",
          "text": [
            "{'Hello,': 2, 'world!': 1, 'Python!': 1}\n"
          ]
        }
      ]
    },
    {
      "cell_type": "code",
      "source": [
        "data = [\n",
        "    {'name': 'John', 'age': 25, 'city': 'New York'},\n",
        "    {'name': 'Jane', 'age': 30, 'city': 'Los Angeles'},\n",
        "    {'name': 'Bob', 'age': 35, 'city': 'Chicago'}\n",
        "]\n",
        "\n",
        "filtered_data = [person for person in data if person['age'] > 30]\n",
        "print(filtered_data)"
      ],
      "metadata": {
        "colab": {
          "base_uri": "https://localhost:8080/"
        },
        "id": "fgs1yD0aBBhl",
        "outputId": "c59f025b-8989-4e4b-f61c-f207c7a86072"
      },
      "execution_count": 28,
      "outputs": [
        {
          "output_type": "stream",
          "name": "stdout",
          "text": [
            "[{'name': 'Bob', 'age': 35, 'city': 'Chicago'}]\n"
          ]
        }
      ]
    },
    {
      "cell_type": "code",
      "source": [
        "list1 = [1, 2, 3, 4, 5]\n",
        "list2 = [4, 5, 6, 7, 8]\n",
        "\n",
        "set1 = set(list1)\n",
        "set2 = set(list2)\n",
        "\n",
        "common_elements = set1.intersection(set2)\n",
        "print(common_elements)\n",
        "\n",
        "elements = [1, 2, 3, 1, 2, 4, 5, 5]\n",
        "unique_counts = {element: elements.count(element) for element in set(elements)}\n",
        "print(unique_counts)"
      ],
      "metadata": {
        "colab": {
          "base_uri": "https://localhost:8080/"
        },
        "id": "PtP5DWjKBBlB",
        "outputId": "a8881536-7a86-4463-f909-09f3de04eca7"
      },
      "execution_count": 29,
      "outputs": [
        {
          "output_type": "stream",
          "name": "stdout",
          "text": [
            "{4, 5}\n",
            "{1: 2, 2: 2, 3: 1, 4: 1, 5: 2}\n"
          ]
        }
      ]
    },
    {
      "cell_type": "code",
      "source": [
        "data = [\n",
        "    {\"name\": \"Alice\", \"age\": 25, \"city\": \"New York\"},\n",
        "    {\"name\": \"Bob\", \"age\": 30, \"city\": \"Chicago\"},\n",
        "    {\"name\": \"Charlie\", \"age\": 35, \"city\": \"New York\"},\n",
        "    {\"name\": \"David\", \"age\": 40, \"city\": \"Chicago\"}\n",
        "]\n",
        "\n",
        "\n",
        "grouped_data = {}\n",
        "for person in data:\n",
        "    city = person[\"city\"]\n",
        "    if city in grouped_data:\n",
        "        grouped_data[city].append(person)\n",
        "    else:\n",
        "        grouped_data[city] = [person]\n",
        "\n",
        "print(grouped_data)"
      ],
      "metadata": {
        "colab": {
          "base_uri": "https://localhost:8080/"
        },
        "id": "q1pxnrNJBVn8",
        "outputId": "03301154-fa17-4b3c-82de-e35090bcc960"
      },
      "execution_count": 30,
      "outputs": [
        {
          "output_type": "stream",
          "name": "stdout",
          "text": [
            "{'New York': [{'name': 'Alice', 'age': 25, 'city': 'New York'}, {'name': 'Charlie', 'age': 35, 'city': 'New York'}], 'Chicago': [{'name': 'Bob', 'age': 30, 'city': 'Chicago'}, {'name': 'David', 'age': 40, 'city': 'Chicago'}]}\n"
          ]
        }
      ]
    },
    {
      "cell_type": "code",
      "source": [
        "data = [\n",
        "    {\"name\": \"Alice\", \"age\": 25, \"city\": \"New York\"},\n",
        "    {\"name\": \"Bob\", \"age\": 30, \"city\": \"Chicago\"},\n",
        "    {\"name\": \"Charlie\", \"age\": 35, \"city\": \"New York\"},\n",
        "    {\"name\": \"David\", \"age\": 40, \"city\": \"Chicago\"}\n",
        "]\n",
        "\n",
        "# Filtering data based on age\n",
        "filtered_data = [person for person in data if person[\"age\"] > 30]\n",
        "\n",
        "print(filtered_data)"
      ],
      "metadata": {
        "colab": {
          "base_uri": "https://localhost:8080/"
        },
        "id": "4PG_pWnQBVqp",
        "outputId": "c3588c15-624a-4329-fe25-91e3db4fe8ec"
      },
      "execution_count": 31,
      "outputs": [
        {
          "output_type": "stream",
          "name": "stdout",
          "text": [
            "[{'name': 'Charlie', 'age': 35, 'city': 'New York'}, {'name': 'David', 'age': 40, 'city': 'Chicago'}]\n"
          ]
        }
      ]
    },
    {
      "cell_type": "code",
      "source": [
        "data = [\n",
        "    {\"name\": \"Alice\", \"age\": 25, \"city\": \"New York\"},\n",
        "    {\"name\": \"Bob\", \"age\": 30, \"city\": \"Chicago\"},\n",
        "    {\"name\": \"Charlie\", \"age\": 35, \"city\": \"New York\"},\n",
        "    {\"name\": \"David\", \"age\": 40, \"city\": \"Chicago\"}\n",
        "]\n",
        "\n",
        "\n",
        "city_ages = {}\n",
        "for person in data:\n",
        "    city = person[\"city\"]\n",
        "    age = person[\"age\"]\n",
        "    if city in city_ages:\n",
        "        city_ages[city].append(age)\n",
        "    else:\n",
        "        city_ages[city] = [age]\n",
        "\n",
        "average_ages = {city: sum(ages) / len(ages) for city, ages in city_ages.items()}\n",
        "\n",
        "print(average_ages)"
      ],
      "metadata": {
        "colab": {
          "base_uri": "https://localhost:8080/"
        },
        "id": "YzVSBMf6BVta",
        "outputId": "380ac290-b1cd-494d-e66b-e4fca585cf10"
      },
      "execution_count": 32,
      "outputs": [
        {
          "output_type": "stream",
          "name": "stdout",
          "text": [
            "{'New York': 30.0, 'Chicago': 35.0}\n"
          ]
        }
      ]
    },
    {
      "cell_type": "code",
      "source": [
        "sentence = \"Hello, world! Hello, Python!\"\n",
        "word_counts = {}\n",
        "for word in sentence.split():\n",
        "    if word in word_counts:\n",
        "        word_counts[word] += 1\n",
        "    else:\n",
        "        word_counts[word] = 1\n",
        "print(word_counts)"
      ],
      "metadata": {
        "colab": {
          "base_uri": "https://localhost:8080/"
        },
        "id": "sbuZFVHwBVv9",
        "outputId": "ed4e3015-8eaf-4461-9b53-40e45c94ca93"
      },
      "execution_count": 33,
      "outputs": [
        {
          "output_type": "stream",
          "name": "stdout",
          "text": [
            "{'Hello,': 2, 'world!': 1, 'Python!': 1}\n"
          ]
        }
      ]
    },
    {
      "cell_type": "code",
      "source": [
        "config = {\n",
        "    'database': {\n",
        "        'host': 'localhost',\n",
        "        'user': 'root',\n",
        "        'password': 'secret'\n",
        "    },\n",
        "    'server': {\n",
        "        'port': 8000,\n",
        "        'enabled': True\n",
        "    }\n",
        "}\n",
        "print(config['database'])\n",
        "print(config['server'])"
      ],
      "metadata": {
        "colab": {
          "base_uri": "https://localhost:8080/"
        },
        "id": "yNY9tjeFBVyU",
        "outputId": "8ed2d2a3-ec65-43f0-f382-19e66c14c36b"
      },
      "execution_count": 34,
      "outputs": [
        {
          "output_type": "stream",
          "name": "stdout",
          "text": [
            "{'host': 'localhost', 'user': 'root', 'password': 'secret'}\n",
            "{'port': 8000, 'enabled': True}\n"
          ]
        }
      ]
    },
    {
      "cell_type": "code",
      "source": [
        "def merge_dicts(dict1, dict2):\n",
        "    merged = dict1.copy()\n",
        "    merged.update(dict2)\n",
        "    return merged\n",
        "\n",
        "dict1 = {'a': 1, 'b': 2}\n",
        "dict2 = {'b': 3, 'c': 4}\n",
        "merged_dict = merge_dicts(dict1, dict2)\n",
        "print(merged_dict)"
      ],
      "metadata": {
        "colab": {
          "base_uri": "https://localhost:8080/"
        },
        "id": "ug_PgtZoBV01",
        "outputId": "56f789f8-575b-4800-8fae-84b52427c110"
      },
      "execution_count": 35,
      "outputs": [
        {
          "output_type": "stream",
          "name": "stdout",
          "text": [
            "{'a': 1, 'b': 3, 'c': 4}\n"
          ]
        }
      ]
    },
    {
      "cell_type": "code",
      "source": [
        "def sort_dict_by_value(dictionary):\n",
        "    sorted_dict = dict(sorted(dictionary.items(), key=lambda x: x[1]))\n",
        "    return sorted_dict\n",
        "\n",
        "unsorted_dict = {'b': 2, 'a': 1, 'c': 3}\n",
        "sorted_dict = sort_dict_by_value(unsorted_dict)\n",
        "print(sorted_dict)"
      ],
      "metadata": {
        "colab": {
          "base_uri": "https://localhost:8080/"
        },
        "id": "Y_LlqsuTBrJC",
        "outputId": "d632b691-b47d-4ab6-bec2-124d2d888090"
      },
      "execution_count": 36,
      "outputs": [
        {
          "output_type": "stream",
          "name": "stdout",
          "text": [
            "{'a': 1, 'b': 2, 'c': 3}\n"
          ]
        }
      ]
    },
    {
      "cell_type": "code",
      "source": [
        "def remove_duplicate_values(dictionary):\n",
        "    unique_values = {}\n",
        "    for key, value in dictionary.items():\n",
        "        if value not in unique_values.values():\n",
        "            unique_values[key] = value\n",
        "    return unique_values\n",
        "\n",
        "original_dict = {'a': 1, 'b': 2, 'c': 1, 'd': 3, 'e': 2}\n",
        "unique_dict = remove_duplicate_values(original_dict)\n",
        "print(unique_dict)"
      ],
      "metadata": {
        "colab": {
          "base_uri": "https://localhost:8080/"
        },
        "id": "EJAKGZlwBrLp",
        "outputId": "d84b8fc1-464a-4898-de46-314ba4b5551c"
      },
      "execution_count": 37,
      "outputs": [
        {
          "output_type": "stream",
          "name": "stdout",
          "text": [
            "{'a': 1, 'b': 2, 'd': 3}\n"
          ]
        }
      ]
    },
    {
      "cell_type": "code",
      "source": [
        "def group_by_key(data, key):\n",
        "    grouped = {}\n",
        "    for item in data:\n",
        "        value = item[key]\n",
        "        if value in grouped:\n",
        "            grouped[value].append(item)\n",
        "        else:\n",
        "            grouped[value] = [item]\n",
        "    return grouped\n",
        "\n",
        "data = [\n",
        "    {'name': 'Alice', 'age': 25, 'city': 'New York'},\n",
        "    {'name': 'Bob', 'age': 30, 'city': 'Chicago'},\n",
        "    {'name': 'Charlie', 'age': 35, 'city': 'New York'},\n",
        "    {'name': 'David', 'age': 40, 'city': 'Chicago'}\n",
        "]\n",
        "\n",
        "grouped_by_city = group_by_key(data, 'city')\n",
        "print(grouped_by_city)"
      ],
      "metadata": {
        "colab": {
          "base_uri": "https://localhost:8080/"
        },
        "id": "a1RRWqqjBrOX",
        "outputId": "7af3257a-4ce9-44a0-fe8b-407c296bc9c6"
      },
      "execution_count": 38,
      "outputs": [
        {
          "output_type": "stream",
          "name": "stdout",
          "text": [
            "{'New York': [{'name': 'Alice', 'age': 25, 'city': 'New York'}, {'name': 'Charlie', 'age': 35, 'city': 'New York'}], 'Chicago': [{'name': 'Bob', 'age': 30, 'city': 'Chicago'}, {'name': 'David', 'age': 40, 'city': 'Chicago'}]}\n"
          ]
        }
      ]
    },
    {
      "cell_type": "markdown",
      "source": [
        "### SET"
      ],
      "metadata": {
        "id": "X2CeCPusCDVB"
      }
    },
    {
      "cell_type": "code",
      "source": [
        "my_set = {1, 2, 3, 4, 5}\n",
        "\n",
        "another_set = set([4, 5, 6, 7, 8])\n",
        "\n",
        "\n",
        "print(\"Set created using '{}' curly brackets:\",my_set)\n",
        "print(\"Set created using set constructor:\",another_set)"
      ],
      "metadata": {
        "colab": {
          "base_uri": "https://localhost:8080/"
        },
        "id": "yHzTUgieCFCF",
        "outputId": "9eccdbc6-357b-4f13-987e-50523edff423"
      },
      "execution_count": 39,
      "outputs": [
        {
          "output_type": "stream",
          "name": "stdout",
          "text": [
            "Set created using '{}' curly brackets: {1, 2, 3, 4, 5}\n",
            "Set created using set constructor: {4, 5, 6, 7, 8}\n"
          ]
        }
      ]
    },
    {
      "cell_type": "code",
      "source": [
        "set1 = {1, 2, 3}\n",
        "set2 = {3, 4, 5}\n",
        "union_set = set1 | set2\n",
        "print(\"Union:\",union_set)"
      ],
      "metadata": {
        "colab": {
          "base_uri": "https://localhost:8080/"
        },
        "id": "rODvMrP1CFFA",
        "outputId": "0f60470b-c1b3-4c14-f79d-823cc887f757"
      },
      "execution_count": 40,
      "outputs": [
        {
          "output_type": "stream",
          "name": "stdout",
          "text": [
            "Union: {1, 2, 3, 4, 5}\n"
          ]
        }
      ]
    },
    {
      "cell_type": "code",
      "source": [
        "grocery_list = {\"apples\", \"bananas\", \"milk\", \"bread\"}\n",
        "household_list = {\"detergent\", \"paper towels\", \"milk\", \"bread\"}\n",
        "\n",
        "shopping_list = grocery_list | household_list\n",
        "\n",
        "print(\"Shopping list:\",shopping_list)"
      ],
      "metadata": {
        "colab": {
          "base_uri": "https://localhost:8080/"
        },
        "id": "gJgq54xkCFH-",
        "outputId": "b6d3df12-cb3c-4e35-eab9-5dd6003d3e62"
      },
      "execution_count": 41,
      "outputs": [
        {
          "output_type": "stream",
          "name": "stdout",
          "text": [
            "Shopping list: {'bread', 'bananas', 'paper towels', 'apples', 'detergent', 'milk'}\n"
          ]
        }
      ]
    },
    {
      "cell_type": "code",
      "source": [
        "set1 = {1, 2, 3}\n",
        "set2 = {3, 4, 5}\n",
        "intersection_set = set1 & set2\n",
        "print(\"Intersection:\",intersection_set)"
      ],
      "metadata": {
        "colab": {
          "base_uri": "https://localhost:8080/"
        },
        "id": "7Ubo2h4-CFKz",
        "outputId": "2dbdf931-2c20-47be-bd7f-7ea5e33dc978"
      },
      "execution_count": 42,
      "outputs": [
        {
          "output_type": "stream",
          "name": "stdout",
          "text": [
            "Intersection: {3}\n"
          ]
        }
      ]
    },
    {
      "cell_type": "code",
      "source": [
        "hiking_group = {\"hiking\", \"camping\", \"outdoors\"}\n",
        "photography_group = {\"photography\", \"editing\", \"hiking\"}\n",
        "\n",
        "common_interests = hiking_group & photography_group\n",
        "\n",
        "print(\"Common interests of both the group:\",common_interests)"
      ],
      "metadata": {
        "colab": {
          "base_uri": "https://localhost:8080/"
        },
        "id": "ypLwOelMCFNs",
        "outputId": "42131c0b-d554-4654-aa85-95047c090c5a"
      },
      "execution_count": 43,
      "outputs": [
        {
          "output_type": "stream",
          "name": "stdout",
          "text": [
            "Common interests of both the group: {'hiking'}\n"
          ]
        }
      ]
    },
    {
      "cell_type": "code",
      "source": [
        "set1 = {1, 2, 3}\n",
        "set2 = {3, 4, 5}\n",
        "difference_set = set1 - set2\n",
        "print(\"Difference:\",difference_set)"
      ],
      "metadata": {
        "colab": {
          "base_uri": "https://localhost:8080/"
        },
        "id": "S9hhYbP4CFQE",
        "outputId": "30b2e1b2-5b59-4a46-dc33-8fc28823fcc8"
      },
      "execution_count": 44,
      "outputs": [
        {
          "output_type": "stream",
          "name": "stdout",
          "text": [
            "Difference: {1, 2}\n"
          ]
        }
      ]
    },
    {
      "cell_type": "code",
      "source": [
        "recommended_books = {\"The Catcher in the Rye\", \"1984\", \"To Kill a Mockingbird\", \"Harry Potter\"}\n",
        "read_books = {\"1984\", \"Harry Potter\"}\n",
        "\n",
        "unread_books = recommended_books - read_books\n",
        "\n",
        "print(\"Books that already read:\",unread_books)"
      ],
      "metadata": {
        "colab": {
          "base_uri": "https://localhost:8080/"
        },
        "id": "DmkzBUbwCFTo",
        "outputId": "c1fc5bcc-c94f-4b2f-d3f6-9e8e20741f18"
      },
      "execution_count": 45,
      "outputs": [
        {
          "output_type": "stream",
          "name": "stdout",
          "text": [
            "Books that already read: {'To Kill a Mockingbird', 'The Catcher in the Rye'}\n"
          ]
        }
      ]
    },
    {
      "cell_type": "code",
      "source": [
        "set1 = {1, 2, 3}\n",
        "set2 = {3, 4, 5}\n",
        "symmetric_difference_set = set1 ^ set2\n",
        "print(\"Symmetric Difference:\",symmetric_difference_set)"
      ],
      "metadata": {
        "colab": {
          "base_uri": "https://localhost:8080/"
        },
        "id": "L5ehj8DUCyd1",
        "outputId": "afed9829-7d18-4fd4-fbd5-716278502a3e"
      },
      "execution_count": 46,
      "outputs": [
        {
          "output_type": "stream",
          "name": "stdout",
          "text": [
            "Symmetric Difference: {1, 2, 4, 5}\n"
          ]
        }
      ]
    },
    {
      "cell_type": "code",
      "source": [
        "restaurant1_menu = {\"pizza\", \"pasta\", \"salad\", \"garlic bread\"}\n",
        "restaurant2_menu = {\"pasta\", \"burger\", \"fries\", \"ice cream\"}\n",
        "\n",
        "unique_choices = restaurant1_menu ^ restaurant2_menu\n",
        "\n",
        "print(\"Unique Dishes:\",unique_choices)"
      ],
      "metadata": {
        "colab": {
          "base_uri": "https://localhost:8080/"
        },
        "id": "DLqieLbnCyhb",
        "outputId": "ae5fc795-5d10-419a-e388-2922cbeb8d60"
      },
      "execution_count": 47,
      "outputs": [
        {
          "output_type": "stream",
          "name": "stdout",
          "text": [
            "Unique Dishes: {'fries', 'salad', 'ice cream', 'burger', 'garlic bread', 'pizza'}\n"
          ]
        }
      ]
    },
    {
      "cell_type": "code",
      "source": [
        "my_set = {1, 2, 3}\n",
        "print(\"Before add():\",my_set)\n",
        "my_set.add(4)\n",
        "print(\"After add():\",my_set)"
      ],
      "metadata": {
        "colab": {
          "base_uri": "https://localhost:8080/"
        },
        "id": "pdEAUqYXCyk9",
        "outputId": "48adc63f-52cf-41b7-a625-5823aac054b8"
      },
      "execution_count": 48,
      "outputs": [
        {
          "output_type": "stream",
          "name": "stdout",
          "text": [
            "Before add(): {1, 2, 3}\n",
            "After add(): {1, 2, 3, 4}\n"
          ]
        }
      ]
    },
    {
      "cell_type": "code",
      "source": [
        "my_set = {1, 2, 3}\n",
        "print(\"Before remove():\",my_set)\n",
        "my_set.remove(2)\n",
        "print(\"After remove():\",my_set)"
      ],
      "metadata": {
        "colab": {
          "base_uri": "https://localhost:8080/"
        },
        "id": "UL7ONQZ0DAhd",
        "outputId": "ec1c4eb1-a4a8-4df3-d59d-ab5f9d27c0a8"
      },
      "execution_count": 49,
      "outputs": [
        {
          "output_type": "stream",
          "name": "stdout",
          "text": [
            "Before remove(): {1, 2, 3}\n",
            "After remove(): {1, 3}\n"
          ]
        }
      ]
    },
    {
      "cell_type": "code",
      "source": [
        "my_set = {1, 2, 3}\n",
        "print(\"Before pop():\",my_set)\n",
        "removed_element = my_set.pop()\n",
        "print(\"After pop():\",removed_element)"
      ],
      "metadata": {
        "colab": {
          "base_uri": "https://localhost:8080/"
        },
        "id": "hfqxZKLdDAk2",
        "outputId": "953eebe8-ebae-46cd-f57b-095b4089f6f2"
      },
      "execution_count": 50,
      "outputs": [
        {
          "output_type": "stream",
          "name": "stdout",
          "text": [
            "Before pop(): {1, 2, 3}\n",
            "After pop(): 1\n"
          ]
        }
      ]
    },
    {
      "cell_type": "code",
      "source": [
        "my_set = {1, 2, 3}\n",
        "print(\"Before clear():\",my_set)\n",
        "my_set.clear()\n",
        "print(\"After clear():\",my_set)"
      ],
      "metadata": {
        "colab": {
          "base_uri": "https://localhost:8080/"
        },
        "id": "C8GsfUV1DXZO",
        "outputId": "a23c3750-6337-45d1-ba81-e8d47143809a"
      },
      "execution_count": 51,
      "outputs": [
        {
          "output_type": "stream",
          "name": "stdout",
          "text": [
            "Before clear(): {1, 2, 3}\n",
            "After clear(): set()\n"
          ]
        }
      ]
    },
    {
      "cell_type": "code",
      "source": [
        "my_set = {1, 2, 3}\n",
        "print(\"Before copy():\",my_set)\n",
        "copied_set = my_set.copy()\n",
        "print(\"After copy():\",copied_set)"
      ],
      "metadata": {
        "colab": {
          "base_uri": "https://localhost:8080/"
        },
        "id": "7QJHHgQdDXcS",
        "outputId": "8e8cf28a-4d3b-422d-96a7-97efcb421f7f"
      },
      "execution_count": 52,
      "outputs": [
        {
          "output_type": "stream",
          "name": "stdout",
          "text": [
            "Before copy(): {1, 2, 3}\n",
            "After copy(): {1, 2, 3}\n"
          ]
        }
      ]
    },
    {
      "cell_type": "code",
      "source": [
        "my_set = {1, 2, 3}\n",
        "print(\"Before update():\",my_set)\n",
        "my_set.update([4, 5])\n",
        "print(\"After update():\",my_set)"
      ],
      "metadata": {
        "colab": {
          "base_uri": "https://localhost:8080/"
        },
        "id": "w4yELSG-DXfh",
        "outputId": "991432f5-5e22-4f02-dd84-74f8cc44c313"
      },
      "execution_count": 53,
      "outputs": [
        {
          "output_type": "stream",
          "name": "stdout",
          "text": [
            "Before update(): {1, 2, 3}\n",
            "After update(): {1, 2, 3, 4, 5}\n"
          ]
        }
      ]
    },
    {
      "cell_type": "code",
      "source": [
        "set1 = {1, 2}\n",
        "set2 = {1, 2, 3, 4}\n",
        "result = set1.issubset(set2)\n",
        "print(result)"
      ],
      "metadata": {
        "colab": {
          "base_uri": "https://localhost:8080/"
        },
        "id": "p94YkKIpDXiF",
        "outputId": "5e25a644-4dd4-45d4-bb0a-1004be312ddf"
      },
      "execution_count": 54,
      "outputs": [
        {
          "output_type": "stream",
          "name": "stdout",
          "text": [
            "True\n"
          ]
        }
      ]
    },
    {
      "cell_type": "code",
      "source": [
        "set1 = {1, 2, 3}\n",
        "set2 = {4, 5, 6}\n",
        "result = set1.isdisjoint(set2)\n",
        "print(result)"
      ],
      "metadata": {
        "colab": {
          "base_uri": "https://localhost:8080/"
        },
        "id": "8cqEEAg7DXk9",
        "outputId": "3681d979-e02a-4852-a01e-88f922068a94"
      },
      "execution_count": 55,
      "outputs": [
        {
          "output_type": "stream",
          "name": "stdout",
          "text": [
            "True\n"
          ]
        }
      ]
    },
    {
      "cell_type": "code",
      "source": [
        "my_set = {1, 2, 3, 4, 5}\n",
        "\n",
        "\n",
        "print(3 in my_set)\n",
        "print(6 in my_set)"
      ],
      "metadata": {
        "colab": {
          "base_uri": "https://localhost:8080/"
        },
        "id": "8Ya0UOZKDXnb",
        "outputId": "5265ad4b-bfd0-459e-bb41-22c7e1d27272"
      },
      "execution_count": 56,
      "outputs": [
        {
          "output_type": "stream",
          "name": "stdout",
          "text": [
            "True\n",
            "False\n"
          ]
        }
      ]
    },
    {
      "cell_type": "code",
      "source": [
        "squares = {x * x for x in range(1, 6)}\n",
        "print(squares)"
      ],
      "metadata": {
        "colab": {
          "base_uri": "https://localhost:8080/"
        },
        "id": "6GkXpKYhDXq9",
        "outputId": "9a76dcb1-9f9f-4bff-f7c1-8b838b7f9660"
      },
      "execution_count": 57,
      "outputs": [
        {
          "output_type": "stream",
          "name": "stdout",
          "text": [
            "{1, 4, 9, 16, 25}\n"
          ]
        }
      ]
    },
    {
      "cell_type": "code",
      "source": [
        "even_squares = {x * x for x in range(1, 6) if x % 2 == 0}\n",
        "print(even_squares)"
      ],
      "metadata": {
        "colab": {
          "base_uri": "https://localhost:8080/"
        },
        "id": "rGyUySBlDzwr",
        "outputId": "98ce61bc-1a3b-4225-e536-53d01fe1d330"
      },
      "execution_count": 58,
      "outputs": [
        {
          "output_type": "stream",
          "name": "stdout",
          "text": [
            "{16, 4}\n"
          ]
        }
      ]
    },
    {
      "cell_type": "code",
      "source": [
        "user_interests = {\n",
        "    'Alice': {'sports', 'music', 'reading'},\n",
        "    'Bob': {'movies', 'music', 'gaming'},\n",
        "    'Charlie': {'sports', 'music', 'cooking'},\n",
        "    'David': {'sports', 'traveling', 'photography'},\n",
        "    'Emma': {'music', 'reading', 'cooking'}\n",
        "}\n",
        "\n",
        "unique_interests = {interest for interests in user_interests.values() for interest in interests}\n",
        "\n",
        "print(\"Unique Interests:\",unique_interests)"
      ],
      "metadata": {
        "colab": {
          "base_uri": "https://localhost:8080/"
        },
        "id": "KPfEWzC7DzzZ",
        "outputId": "600d3f59-81ec-43d5-b6da-047aafb4e2f6"
      },
      "execution_count": 59,
      "outputs": [
        {
          "output_type": "stream",
          "name": "stdout",
          "text": [
            "Unique Interests: {'reading', 'movies', 'sports', 'photography', 'cooking', 'gaming', 'traveling', 'music'}\n"
          ]
        }
      ]
    },
    {
      "cell_type": "code",
      "source": [
        "set1 = {1, 2}\n",
        "set2 = {'a', 'b', 'c'}\n",
        "cartesian_product = {(x, y) for x in set1 for y in set2}\n",
        "print(cartesian_product)"
      ],
      "metadata": {
        "colab": {
          "base_uri": "https://localhost:8080/"
        },
        "id": "f-A5i-8uDz2Z",
        "outputId": "21360e39-534b-4e32-d8dd-9a7b7ecfbe43"
      },
      "execution_count": 60,
      "outputs": [
        {
          "output_type": "stream",
          "name": "stdout",
          "text": [
            "{(2, 'c'), (1, 'a'), (2, 'b'), (1, 'b'), (1, 'c'), (2, 'a')}\n"
          ]
        }
      ]
    },
    {
      "cell_type": "code",
      "source": [
        "def power_set(s):\n",
        "    if len(s) == 0:\n",
        "        return {frozenset()}\n",
        "    element = s.pop()\n",
        "    subsets = power_set(s)\n",
        "    return subsets.union({subset.union({element}) for subset in subsets})\n",
        "\n",
        "my_set = {1, 2, 3}\n",
        "print(power_set(my_set))"
      ],
      "metadata": {
        "colab": {
          "base_uri": "https://localhost:8080/"
        },
        "id": "ONnJ_xJ4D8Da",
        "outputId": "0ecefd2f-fd2e-41a3-db5e-2a4f78e07001"
      },
      "execution_count": 61,
      "outputs": [
        {
          "output_type": "stream",
          "name": "stdout",
          "text": [
            "{frozenset({2}), frozenset({2, 3}), frozenset({1, 2, 3}), frozenset({1, 2}), frozenset({3}), frozenset({1}), frozenset(), frozenset({1, 3})}\n"
          ]
        }
      ]
    },
    {
      "cell_type": "code",
      "source": [
        "my_set = {1, 2, 3}\n",
        "frozen_set = frozenset(my_set)\n",
        "print(frozen_set)"
      ],
      "metadata": {
        "colab": {
          "base_uri": "https://localhost:8080/"
        },
        "id": "0XdPeFVgD8G4",
        "outputId": "02f7a0e5-0a4d-437e-db3c-0ffd117fa77d"
      },
      "execution_count": 62,
      "outputs": [
        {
          "output_type": "stream",
          "name": "stdout",
          "text": [
            "frozenset({1, 2, 3})\n"
          ]
        }
      ]
    },
    {
      "cell_type": "code",
      "source": [
        "from sympy import BooleanAlgebra\n",
        "\n",
        "ba = BooleanAlgebra()\n",
        "set1 = {1, 2, 3}\n",
        "set2 = {3, 4, 5}\n",
        "intersection = ba.intersection(set1, set2)\n",
        "print(intersection)\n",
        "\n",
        "\n",
        "union = ba.union(set1, set2)\n",
        "print(union)\n",
        "\n",
        "\n",
        "complement = ba.complement(set1, set2)\n",
        "print(complement)"
      ],
      "metadata": {
        "colab": {
          "base_uri": "https://localhost:8080/",
          "height": 384
        },
        "id": "SpXKGxYqD8OD",
        "outputId": "eeabd4b2-0dd3-4463-d8af-3b8193fd7250"
      },
      "execution_count": 63,
      "outputs": [
        {
          "output_type": "error",
          "ename": "ImportError",
          "evalue": "cannot import name 'BooleanAlgebra' from 'sympy' (/usr/local/lib/python3.10/dist-packages/sympy/__init__.py)",
          "traceback": [
            "\u001b[0;31m---------------------------------------------------------------------------\u001b[0m",
            "\u001b[0;31mImportError\u001b[0m                               Traceback (most recent call last)",
            "\u001b[0;32m<ipython-input-63-9f11cd82b680>\u001b[0m in \u001b[0;36m<cell line: 1>\u001b[0;34m()\u001b[0m\n\u001b[0;32m----> 1\u001b[0;31m \u001b[0;32mfrom\u001b[0m \u001b[0msympy\u001b[0m \u001b[0;32mimport\u001b[0m \u001b[0mBooleanAlgebra\u001b[0m\u001b[0;34m\u001b[0m\u001b[0;34m\u001b[0m\u001b[0m\n\u001b[0m\u001b[1;32m      2\u001b[0m \u001b[0;34m\u001b[0m\u001b[0m\n\u001b[1;32m      3\u001b[0m \u001b[0mba\u001b[0m \u001b[0;34m=\u001b[0m \u001b[0mBooleanAlgebra\u001b[0m\u001b[0;34m(\u001b[0m\u001b[0;34m)\u001b[0m\u001b[0;34m\u001b[0m\u001b[0;34m\u001b[0m\u001b[0m\n\u001b[1;32m      4\u001b[0m \u001b[0mset1\u001b[0m \u001b[0;34m=\u001b[0m \u001b[0;34m{\u001b[0m\u001b[0;36m1\u001b[0m\u001b[0;34m,\u001b[0m \u001b[0;36m2\u001b[0m\u001b[0;34m,\u001b[0m \u001b[0;36m3\u001b[0m\u001b[0;34m}\u001b[0m\u001b[0;34m\u001b[0m\u001b[0;34m\u001b[0m\u001b[0m\n\u001b[1;32m      5\u001b[0m \u001b[0mset2\u001b[0m \u001b[0;34m=\u001b[0m \u001b[0;34m{\u001b[0m\u001b[0;36m3\u001b[0m\u001b[0;34m,\u001b[0m \u001b[0;36m4\u001b[0m\u001b[0;34m,\u001b[0m \u001b[0;36m5\u001b[0m\u001b[0;34m}\u001b[0m\u001b[0;34m\u001b[0m\u001b[0;34m\u001b[0m\u001b[0m\n",
            "\u001b[0;31mImportError\u001b[0m: cannot import name 'BooleanAlgebra' from 'sympy' (/usr/local/lib/python3.10/dist-packages/sympy/__init__.py)",
            "",
            "\u001b[0;31m---------------------------------------------------------------------------\u001b[0;32m\nNOTE: If your import is failing due to a missing package, you can\nmanually install dependencies using either !pip or !apt.\n\nTo view examples of installing some common dependencies, click the\n\"Open Examples\" button below.\n\u001b[0;31m---------------------------------------------------------------------------\u001b[0m\n"
          ],
          "errorDetails": {
            "actions": [
              {
                "action": "open_url",
                "actionText": "Open Examples",
                "url": "/notebooks/snippets/importing_libraries.ipynb"
              }
            ]
          }
        }
      ]
    }
  ]
}