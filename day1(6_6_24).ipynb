{
  "nbformat": 4,
  "nbformat_minor": 0,
  "metadata": {
    "colab": {
      "provenance": [],
      "authorship_tag": "ABX9TyMiLypOvhhw0pRtJoblAk79",
      "include_colab_link": true
    },
    "kernelspec": {
      "name": "python3",
      "display_name": "Python 3"
    },
    "language_info": {
      "name": "python"
    }
  },
  "cells": [
    {
      "cell_type": "markdown",
      "metadata": {
        "id": "view-in-github",
        "colab_type": "text"
      },
      "source": [
        "<a href=\"https://colab.research.google.com/github/sharanya1234567/Sharanya-Vemula/blob/main/day1(6_6_24).ipynb\" target=\"_parent\"><img src=\"https://colab.research.google.com/assets/colab-badge.svg\" alt=\"Open In Colab\"/></a>"
      ]
    },
    {
      "cell_type": "markdown",
      "source": [
        "### Python Functions"
      ],
      "metadata": {
        "id": "2xhcOEuoEZ22"
      }
    },
    {
      "cell_type": "code",
      "execution_count": null,
      "metadata": {
        "colab": {
          "base_uri": "https://localhost:8080/"
        },
        "id": "m9gpNZue_Uk5",
        "outputId": "76729e17-29bb-45f5-c7e6-ab6e536fd474"
      },
      "outputs": [
        {
          "output_type": "stream",
          "name": "stdout",
          "text": [
            "Joseph Williams\n",
            "Tina Williams\n",
            "Robert Williams\n"
          ]
        }
      ],
      "source": [
        "def my_function(fname):\n",
        "  print(fname + \" Williams\")\n",
        "\n",
        "my_function(\"Joseph\")\n",
        "my_function(\"Tina\")\n",
        "my_function(\"Robert\")\n"
      ]
    },
    {
      "cell_type": "code",
      "source": [
        "def my_function(*kids):\n",
        "  print(\"The youngest child is \" + kids[2])\n",
        "\n",
        "my_function(\" Joseph\", \"Tina\", \"Robert\")"
      ],
      "metadata": {
        "colab": {
          "base_uri": "https://localhost:8080/"
        },
        "id": "xYf40OitALeC",
        "outputId": "43b3d223-f089-4e80-f1b3-a5def18a139c"
      },
      "execution_count": null,
      "outputs": [
        {
          "output_type": "stream",
          "name": "stdout",
          "text": [
            "The youngest child is Robert\n"
          ]
        }
      ]
    },
    {
      "cell_type": "code",
      "source": [
        "def my_function(child3, child2, child1):\n",
        "  print(\"The youngest child is \" + child3)\n",
        "\n",
        "my_function(child1 = \" Joseph\", child2 = \"Tina\", child3 = \"Robert\")"
      ],
      "metadata": {
        "colab": {
          "base_uri": "https://localhost:8080/"
        },
        "id": "Up8WeRm_ALiH",
        "outputId": "9fe2678a-5749-4872-a103-183f64199104"
      },
      "execution_count": null,
      "outputs": [
        {
          "output_type": "stream",
          "name": "stdout",
          "text": [
            "The youngest child is Robert\n"
          ]
        }
      ]
    },
    {
      "cell_type": "code",
      "source": [
        "def my_function(**kid):\n",
        "  print(\"His last name is \" + kid[\"lname\"])\n",
        "\n",
        "my_function(fname = \"Tina\", lname = \"Robert\")"
      ],
      "metadata": {
        "colab": {
          "base_uri": "https://localhost:8080/"
        },
        "id": "HP2mOi0YALmH",
        "outputId": "edd110d1-c332-464b-c995-1a766463f695"
      },
      "execution_count": null,
      "outputs": [
        {
          "output_type": "stream",
          "name": "stdout",
          "text": [
            "His last name is Robert\n"
          ]
        }
      ]
    },
    {
      "cell_type": "code",
      "source": [
        "def my_function(country = \"Norway\"):\n",
        "  print(\"I am from \" + country)\n",
        "\n",
        "my_function(\"Sweden\")\n",
        "my_function(\"India\")\n",
        "my_function()\n",
        "my_function(\"Brazil\")"
      ],
      "metadata": {
        "colab": {
          "base_uri": "https://localhost:8080/"
        },
        "id": "2FB8l0VxALpg",
        "outputId": "e349e919-7145-4dbc-f0b7-c484fc0ee90b"
      },
      "execution_count": null,
      "outputs": [
        {
          "output_type": "stream",
          "name": "stdout",
          "text": [
            "I am from Sweden\n",
            "I am from India\n",
            "I am from Norway\n",
            "I am from Brazil\n"
          ]
        }
      ]
    },
    {
      "cell_type": "code",
      "source": [
        "def is_prime(n):\n",
        "    if n in [2, 3]:\n",
        "        return True\n",
        "    if (n == 1) or (n % 2 == 0):\n",
        "        return False\n",
        "    r = 3\n",
        "    while r * r <= n:\n",
        "        if n % r == 0:\n",
        "            return False\n",
        "        r += 2\n",
        "    return True\n",
        "print(is_prime(78), is_prime(79))\n"
      ],
      "metadata": {
        "colab": {
          "base_uri": "https://localhost:8080/"
        },
        "id": "mOCJ9yS9ALur",
        "outputId": "68806f8f-0d58-4c7a-ac02-6ec0e1094fb8"
      },
      "execution_count": null,
      "outputs": [
        {
          "output_type": "stream",
          "name": "stdout",
          "text": [
            "False True\n"
          ]
        }
      ]
    },
    {
      "cell_type": "code",
      "source": [
        "def evenOdd(x):\n",
        "    if (x % 2 == 0):\n",
        "        print(\"even\")\n",
        "    else:\n",
        "        print(\"odd\")\n",
        "\n",
        "evenOdd(2)\n",
        "evenOdd(3)\n"
      ],
      "metadata": {
        "colab": {
          "base_uri": "https://localhost:8080/"
        },
        "id": "3ainpb8LBMbg",
        "outputId": "e632e513-e05f-4588-dd24-fbc5c17d8209"
      },
      "execution_count": null,
      "outputs": [
        {
          "output_type": "stream",
          "name": "stdout",
          "text": [
            "even\n",
            "odd\n"
          ]
        }
      ]
    },
    {
      "cell_type": "code",
      "source": [
        "def myFun(x, y=50):\n",
        "    print(\"x: \", x)\n",
        "    print(\"y: \", y)\n",
        "\n",
        "myFun(10)\n"
      ],
      "metadata": {
        "colab": {
          "base_uri": "https://localhost:8080/"
        },
        "id": "6ChrGeA_BMd1",
        "outputId": "92f7bd8e-0bb7-4fb9-ad08-40f04967ec5c"
      },
      "execution_count": null,
      "outputs": [
        {
          "output_type": "stream",
          "name": "stdout",
          "text": [
            "x:  10\n",
            "y:  50\n"
          ]
        }
      ]
    },
    {
      "cell_type": "code",
      "source": [
        "def student(firstname, lastname):\n",
        "    print(firstname, lastname)\n",
        "\n",
        "student(firstname='Sharanya', lastname='vemula')\n",
        "student(lastname='Sree', firstname='Meenu')\n"
      ],
      "metadata": {
        "colab": {
          "base_uri": "https://localhost:8080/"
        },
        "id": "_BJcZGMiBMgv",
        "outputId": "a6811022-27ea-430a-a2f8-5905701833e6"
      },
      "execution_count": null,
      "outputs": [
        {
          "output_type": "stream",
          "name": "stdout",
          "text": [
            "Sharanya vemula\n",
            "Meenu Sree\n"
          ]
        }
      ]
    },
    {
      "cell_type": "code",
      "source": [
        "def nameAge(name, age):\n",
        "    print(\"Hi, I am\", name)\n",
        "    print(\"My age is \", age)\n",
        "\n",
        "\n",
        "print(\"Case-1:\")\n",
        "nameAge(\"Jathin\", 27)\n",
        "\n",
        "print(\"\\nCase-2:\")\n",
        "nameAge(27, \"Jathin\")\n"
      ],
      "metadata": {
        "colab": {
          "base_uri": "https://localhost:8080/"
        },
        "id": "5l1FvNxyBMkX",
        "outputId": "d76adc1f-b45e-45c9-a17c-e98677e4a24a"
      },
      "execution_count": null,
      "outputs": [
        {
          "output_type": "stream",
          "name": "stdout",
          "text": [
            "Case-1:\n",
            "Hi, I am Jathin\n",
            "My age is  27\n",
            "\n",
            "Case-2:\n",
            "Hi, I am 27\n",
            "My age is  Jathin\n"
          ]
        }
      ]
    },
    {
      "cell_type": "code",
      "source": [
        " def myFun(*argv):\n",
        "    for arg in argv:\n",
        "        print(arg)\n",
        "\n",
        "\n",
        "myFun('Hello', 'Welcome', 'to', 'Hyderabad')\n"
      ],
      "metadata": {
        "colab": {
          "base_uri": "https://localhost:8080/"
        },
        "id": "dSckf9ycFBGJ",
        "outputId": "b6889dba-8265-4133-fafb-a9796b14033f"
      },
      "execution_count": null,
      "outputs": [
        {
          "output_type": "stream",
          "name": "stdout",
          "text": [
            "Hello\n",
            "Welcome\n",
            "to\n",
            "Hyderabad\n"
          ]
        }
      ]
    },
    {
      "cell_type": "code",
      "source": [
        "def myFun(**kwargs):\n",
        "    for key, value in kwargs.items():\n",
        "        print(\"%s == %s\" % (key, value))\n",
        "\n",
        "myFun(first='William', mid='James', last='Bond')\n"
      ],
      "metadata": {
        "colab": {
          "base_uri": "https://localhost:8080/"
        },
        "id": "mvEdq18JFBPZ",
        "outputId": "4d16b13e-efa6-4709-9df9-24c2b98419c7"
      },
      "execution_count": null,
      "outputs": [
        {
          "output_type": "stream",
          "name": "stdout",
          "text": [
            "first == William\n",
            "mid == James\n",
            "last == Bond\n"
          ]
        }
      ]
    },
    {
      "cell_type": "code",
      "source": [
        "def calculate_area(length, width):\n",
        "  \"\"\"This function calculates the area of a rectangle.\"\"\"\n",
        "  return length * width\n",
        "\n",
        "\n",
        "area = calculate_area(5, 3)\n",
        "print(area)"
      ],
      "metadata": {
        "colab": {
          "base_uri": "https://localhost:8080/"
        },
        "id": "NDGQn0EZFBVx",
        "outputId": "da7f3975-1b9f-4314-c0b6-6bf5dd4bb7ca"
      },
      "execution_count": null,
      "outputs": [
        {
          "output_type": "stream",
          "name": "stdout",
          "text": [
            "15\n"
          ]
        }
      ]
    },
    {
      "cell_type": "code",
      "source": [
        "def full_name(first, last, *, middle=\"\"):\n",
        "\n",
        "  return first + \" \" + middle + \" \" + last\n",
        "\n",
        "\n",
        "print(full_name(first=\"Vanshika\", last=\"Singh\", middle=\"J.\"))\n",
        "\n",
        "print(full_name(\"Shubhdeep\", \"Sidhu\", middle=\"Singh\"))"
      ],
      "metadata": {
        "id": "jS_QccM7ONLO",
        "colab": {
          "base_uri": "https://localhost:8080/"
        },
        "outputId": "50b9a2b3-c6a4-449a-8e3e-b34a3423a043"
      },
      "execution_count": 2,
      "outputs": [
        {
          "output_type": "stream",
          "name": "stdout",
          "text": [
            "Vanshika J. Singh\n",
            "Shubhdeep Singh Sidhu\n"
          ]
        }
      ]
    },
    {
      "cell_type": "code",
      "source": [
        "def divide(dividend, *, divisor=1):\n",
        "  return dividend / divisor\n",
        "\n",
        "print(divide(dividend=10, divisor=2))\n"
      ],
      "metadata": {
        "colab": {
          "base_uri": "https://localhost:8080/"
        },
        "id": "o9UzAbx8Qug2",
        "outputId": "36deda84-c669-41b8-b908-28c8236d1635"
      },
      "execution_count": 1,
      "outputs": [
        {
          "output_type": "stream",
          "name": "stdout",
          "text": [
            "5.0\n"
          ]
        }
      ]
    },
    {
      "cell_type": "code",
      "source": [
        "def shout(text):\n",
        "\n",
        "  return text.upper()\n",
        "\n",
        "def whisper(text):\n",
        "\n",
        "  return text.lower()\n",
        "\n",
        "def modify_text(text, func):\n",
        "\n",
        "  return func(text)\n",
        "\n",
        "\n",
        "yelled_text = modify_text(\"Hello world!\", shout)\n",
        "print(yelled_text)\n",
        "\n",
        "whispered_text = modify_text(\"HELLO WORLD!\", whisper)\n",
        "print(whispered_text)"
      ],
      "metadata": {
        "colab": {
          "base_uri": "https://localhost:8080/"
        },
        "id": "Iz9jKeytQukb",
        "outputId": "ba9587dc-ea37-4798-d307-66701ee6b326"
      },
      "execution_count": 3,
      "outputs": [
        {
          "output_type": "stream",
          "name": "stdout",
          "text": [
            "HELLO WORLD!\n",
            "hello world!\n"
          ]
        }
      ]
    },
    {
      "cell_type": "code",
      "source": [
        "add = lambda x, y: x + y\n",
        "\n",
        "result = add(5, 3)\n",
        "print(result)"
      ],
      "metadata": {
        "id": "isKtmA2BQuso"
      },
      "execution_count": null,
      "outputs": []
    },
    {
      "cell_type": "code",
      "source": [
        "greeting = lambda name: f\"Hello, {name}!\"\n",
        "\n",
        "print(greeting(\"J\"))"
      ],
      "metadata": {
        "id": "88QgbCFbQuvD"
      },
      "execution_count": null,
      "outputs": []
    },
    {
      "cell_type": "code",
      "source": [
        "words = [\"apple\", \"banana\", \"mango\", \"grapes\"]\n",
        "sorted_words = sorted(words, key=lambda word: len(word))\n",
        "\n",
        "print(sorted_words)"
      ],
      "metadata": {
        "id": "KBZt2rPLQuyC"
      },
      "execution_count": null,
      "outputs": []
    },
    {
      "cell_type": "code",
      "source": [
        "numbers = [1, 2, 3, 4, 5, 6]\n",
        "\n",
        "even_numbers = filter(lambda x: x % 2 == 0, numbers)\n",
        "\n",
        "print(list(even_numbers))"
      ],
      "metadata": {
        "id": "bF6RW1TOSXvI"
      },
      "execution_count": null,
      "outputs": []
    },
    {
      "cell_type": "code",
      "source": [
        "from functools import reduce\n",
        "\n",
        "numbers = [1, 2, 3, 4]\n",
        "\n",
        "product = reduce(lambda x, y: x * y, numbers)\n",
        "\n",
        "print(product)"
      ],
      "metadata": {
        "id": "gvnf3fe7SXxu"
      },
      "execution_count": null,
      "outputs": []
    },
    {
      "cell_type": "code",
      "source": [
        "product = 1\n",
        "for num in numbers:\n",
        "  product *= num\n",
        "\n",
        "print(product)"
      ],
      "metadata": {
        "id": "NPxR3LNBSX1n"
      },
      "execution_count": null,
      "outputs": []
    },
    {
      "cell_type": "code",
      "source": [
        "x = 10\n",
        "\n",
        "def my_function():\n",
        "  y = 20\n",
        "  print(\"Inside function:\", x, y)\n",
        "\n",
        "  def inner_function():\n",
        "    z = 30\n",
        "    print(\"Inside inner function:\", x, y, z)\n",
        "  inner_function()\n",
        "\n",
        "print(\"Outside function:\", x)\n",
        "\n",
        "my_function()"
      ],
      "metadata": {
        "id": "0adQ_flRSX5F"
      },
      "execution_count": null,
      "outputs": []
    },
    {
      "cell_type": "code",
      "source": [
        "numbers = [1, 2, 3, 4, 5]\n",
        "\n",
        "squared_numbers = map(lambda x: x * x, numbers)\n",
        "\n",
        "print(list(squared_numbers))"
      ],
      "metadata": {
        "id": "FzHpwFgBQu1f"
      },
      "execution_count": null,
      "outputs": []
    },
    {
      "cell_type": "code",
      "source": [
        "def square(x):\n",
        "\n",
        "  return x * x\n",
        "\n",
        "result = square(5)\n",
        "print(result)"
      ],
      "metadata": {
        "id": "Cfsuw6FBS80x"
      },
      "execution_count": null,
      "outputs": []
    },
    {
      "cell_type": "code",
      "source": [
        "def get_name_and_age():\n",
        "\n",
        "  name = \"J\"\n",
        "  age = 30\n",
        "  return name, age\n",
        "\n",
        "person_info = get_name_and_age()\n",
        "name, age = person_info\n",
        "\n",
        "print(name, age)"
      ],
      "metadata": {
        "id": "GTYBcrTjS84B"
      },
      "execution_count": null,
      "outputs": []
    },
    {
      "cell_type": "code",
      "source": [
        "MIN_GRADE = 70\n",
        "\n",
        "def analyze_grades(names, grades):\n",
        "\n",
        "\n",
        "  total_grade = 0\n",
        "  failing_students = []\n",
        "\n",
        "\n",
        "  for name, grade in zip(names, grades):\n",
        "    total_grade += grade\n",
        "\n",
        "\n",
        "    is_failing = lambda g: g < MIN_GRADE\n",
        "\n",
        "    if is_failing(grade):\n",
        "      failing_students.append(name)\n",
        "\n",
        "\n",
        "  average = total_grade / len(grades)\n",
        "\n",
        "\n",
        "  return average, failing_students\n",
        "\n",
        "\n",
        "student_names = [\"J\", \"Ishu\", \"Lakshay\", \"Avi\"]\n",
        "student_grades = [85, 60, 90, 75]\n",
        "\n",
        "\n",
        "average_grade, failing_list = analyze_grades(student_names, student_grades)\n",
        "\n",
        "print(\"Average Grade:\", average_grade)\n",
        "print(\"Failing Students:\", failing_list)"
      ],
      "metadata": {
        "id": "io08W3lKS87h"
      },
      "execution_count": null,
      "outputs": []
    },
    {
      "cell_type": "code",
      "source": [
        "#Array Operations and Broadcasting:\n",
        "#Given a 3D array a with shape (2, 3, 4) and a 2D array b with shape (3, 4), perform element-wise multiplication between a and b using broadcasting.\n",
        "\n",
        "\n",
        "import numpy as np\n",
        "\n",
        "\n",
        "a = np.random.rand(2, 3, 4)\n",
        "\n",
        "b = np.random.rand(3, 4)\n",
        "\n",
        "result = a * b\n",
        "print(result)"
      ],
      "metadata": {
        "id": "OpSU0aoWS9Dl"
      },
      "execution_count": null,
      "outputs": []
    },
    {
      "cell_type": "code",
      "source": [
        "#Implement a function that takes two 2D arrays c and d with different shapes and performs element-wise operations (addition, subtraction, multiplication, and division) between them using broadcasting. Handle the case where broadcasting is not possible.\n",
        "\n",
        "import numpy as np\n",
        "\n",
        "def elementwise_operations(c, d):\n",
        "    try:\n",
        "        add = c + d\n",
        "        print(\"Addition:\\n\", addition)\n",
        "\n",
        "\n",
        "        sub = c - d\n",
        "        print(\"Subtraction:\\n\", subtraction)\n",
        "\n",
        "\n",
        "        mul = c * d\n",
        "        print(\"Multiplication:\\n\", multiplication)\n",
        "\n",
        "\n",
        "        div = c / d\n",
        "        print(\"Division:\\n\", division)\n",
        "\n",
        "    except ValueError as e:\n",
        "        print(\"Error:\", e)\n",
        "\n",
        "\n",
        "c = np.random.rand(3, 4)\n",
        "d = np.random.rand(1, 4)\n",
        "\n",
        "elementwise_operations(c, d)"
      ],
      "metadata": {
        "id": "IVzejiCzWWwV"
      },
      "execution_count": null,
      "outputs": []
    },
    {
      "cell_type": "code",
      "source": [
        "#Create a 2D array e with shape (5, 3) and a 1D array f with length 5. Compute the outer product of e and f using broadcasting.#\n",
        "\n",
        "import numpy as np\n",
        "\n",
        "e = np.random.rand(5, 3)\n",
        "f = np.random.rand(5)\n",
        "\n",
        "\n",
        "outer_product = e * f[:, np.newaxis]\n",
        "\n",
        "#\n",
        "print(\"2D array\", e)\n",
        "print(\"1D array\", f)\n",
        "print(\"Outer product\", outer_product)"
      ],
      "metadata": {
        "id": "8_PlWCECWXJ4"
      },
      "execution_count": null,
      "outputs": []
    },
    {
      "cell_type": "code",
      "source": [
        "#Given a 3D array g with shape (4, 3, 2), extract every other element along the first and second dimensions, but keep all elements along the third dimension.\n",
        "\n",
        "import numpy as np\n",
        "\n",
        "\n",
        "g = np.random.rand(4, 3, 2)\n",
        "\n",
        "result = g[::2, ::2, :]\n",
        "print(\"Original array g:\\n\", g)\n",
        "print(\"Extracted array:\\n\", result)"
      ],
      "metadata": {
        "id": "bH9RVsrnWXMT"
      },
      "execution_count": null,
      "outputs": []
    },
    {
      "cell_type": "code",
      "source": [
        "#Create a function that takes a 2D array h and an array of row indices i and column indices j. The function should return a new array k where k[m, n] is the sum of the elements in h along the diagonal specified by i[m] and j[n].\n",
        "\n",
        "\n",
        "import numpy as np\n",
        "\n",
        "def diagonal_sum(h, i, j):\n",
        "\n",
        "    k = np.zeros((len(i), len(j)))\n",
        "\n",
        "\n",
        "    for m in range(len(i)):\n",
        "        for n in range(len(j)):\n",
        "\n",
        "            diag_indices = np.diag_indices(min(h.shape))\n",
        "            k[m, n] = np.sum(h[i[m]:i[m]+1, j[n]:j[n]+1][diag_indices])\n",
        "\n",
        "    return k\n",
        "\n",
        "\n",
        "h = np.array([[1, 2, 3],\n",
        "              [4, 5, 6],\n",
        "              [7, 8, 9]])\n",
        "\n",
        "i = np.array([0, 1, 2])\n",
        "j = np.array([0, 1, 2])\n",
        "\n",
        "result = diagonal_sum(h, i, j)\n",
        "print(\"Result:\\n\", result)"
      ],
      "metadata": {
        "id": "UJMNyGGOWXOl"
      },
      "execution_count": null,
      "outputs": []
    },
    {
      "cell_type": "code",
      "source": [
        "#Implement a function that takes a 2D array l and returns a new array m where each element in m is the product of the corresponding row and column means in l.\n",
        "\n",
        "import numpy as np\n",
        "\n",
        "def row_column_means_product(l):\n",
        "\n",
        "    row_means = np.mean(l, axis=1, keepdims=True)\n",
        "\n",
        "\n",
        "    column_means = np.mean(l, axis=0, keepdims=True)\n",
        "\n",
        "\n",
        "    m = row_means * column_means\n",
        "\n",
        "    return m\n",
        "\n",
        "\n",
        "l = np.array([[1, 2, 3],\n",
        "              [4, 5, 6],\n",
        "              [7, 8, 9]])\n",
        "\n",
        "result = row_column_means_product(l)\n",
        "print(\"Result:\\n\", result)"
      ],
      "metadata": {
        "id": "vCdgkxG2WXQv"
      },
      "execution_count": null,
      "outputs": []
    },
    {
      "cell_type": "code",
      "source": [
        "#Given a 2D array n with shape (4, 6), reshape it into a 3D array with shape (2, 2, 6) and then flatten it back to a 2D array with shape (4, 6).\n",
        "\n",
        "import numpy as np\n",
        "\n",
        "\n",
        "n = np.random.rand(4, 6)\n",
        "\n",
        "\n",
        "reshaped_n = np.reshape(n, (2, 2, 6))\n",
        "\n",
        "\n",
        "flattened_n = np.flatten(reshaped_n)\n",
        "\n",
        "print(\"Original array shape:\", n.shape)\n",
        "print(\"Reshaped array shape:\", reshaped_n.shape)\n",
        "print(\"Flattened array shape:\", flattened_n.shape)"
      ],
      "metadata": {
        "id": "8adx3JpZWXTp"
      },
      "execution_count": null,
      "outputs": []
    },
    {
      "cell_type": "code",
      "source": [
        "#Implement a function that takes a 2D array o and rolls it along the first axis by a specified number of positions. For example, if the input array is [[1, 2, 3], [4, 5, 6]] and the number of positions is 1, the output should be [[4, 5, 6], [1, 2, 3]].\n",
        "\n",
        "import numpy as np\n",
        "\n",
        "def roll_array_first_axis(o, positions):\n",
        "\n",
        "    rolled_array = np.roll(o, positions, axis=0)\n",
        "    return rolled_array\n",
        "\n",
        "\n",
        "o = np.array([[1, 2, 3],\n",
        "              [4, 5, 6]])\n",
        "\n",
        "positions = 1\n",
        "result = roll_array_first_axis(o, positions)\n",
        "print(\"Original array:\\n\", o)\n",
        "print(\"Rolled array:\\n\", result)"
      ],
      "metadata": {
        "id": "A-xRUXvsWksC"
      },
      "execution_count": null,
      "outputs": []
    },
    {
      "cell_type": "code",
      "source": [
        "#Create a function that takes a 2D array p and replaces all occurrences of a specified value x with the mean of the neighboring elements (horizontally and vertically) in the array.\n",
        "\n",
        "import numpy as np\n",
        "\n",
        "def replace_with_neighbor_mean(p, x):\n",
        "\n",
        "    indices = np.where(p == x)\n",
        "\n",
        "\n",
        "    for i, j in zip(indices[0], indices[1]):\n",
        "\n",
        "        neighbor_mean = np.mean([\n",
        "            p[i-1, j] if i > 0 else 0,\n",
        "            p[i+1, j] if i < p.shape[0]-1 else 0,\n",
        "            p[i, j-1] if j > 0 else 0,\n",
        "            p[i, j+1] if j < p.shape[1]-1 else 0\n",
        "        ])\n",
        "\n",
        "\n",
        "        p[i, j] = neighbor_mean\n",
        "\n",
        "    return p\n",
        "\n",
        "\n",
        "p = np.array([[1, 2, 3],\n",
        "              [4, 5, 6],\n",
        "              [7, 8, 9]])\n",
        "\n",
        "x = 5\n",
        "result = replace_with_neighbor_mean(p, x)\n",
        "print(\"Result:\\n\", result)"
      ],
      "metadata": {
        "id": "WgOFeIb8Wkur"
      },
      "execution_count": null,
      "outputs": []
    },
    {
      "cell_type": "code",
      "source": [
        "def tri_recursion(k):\n",
        "  if(k > 0):\n",
        "    result = k + tri_recursion(k - 1)\n",
        "    print(result)\n",
        "  else:\n",
        "    result = 0\n",
        "  return result\n",
        "\n",
        "print(\"\\n\\nRecursion Example Results\")\n",
        "tri_recursion(6)"
      ],
      "metadata": {
        "id": "SHd7YFrsWkxW"
      },
      "execution_count": null,
      "outputs": []
    },
    {
      "cell_type": "code",
      "source": [
        "def add(num1: int, num2: int) -> int:\n",
        "\n",
        "    num3 = num1 + num2\n",
        "\n",
        "    return num3\n",
        "\n",
        "num1, num2 = 5, 15\n",
        "ans = add(num1, num2)\n",
        "print(f\"The addition of {num1} and {num2} results {ans}.\")\n"
      ],
      "metadata": {
        "id": "eXcfj74oWk07"
      },
      "execution_count": null,
      "outputs": []
    }
  ]
}